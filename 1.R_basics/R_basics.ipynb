{
 "cells": [
  {
   "cell_type": "markdown",
   "metadata": {},
   "source": [
    "<body >\n",
    "    <div style=\"direction:rtl;line-height:300%;background-color:rgb(255, 255, 255);\">\n",
    "            <img src=\"../figs/Fanni-Transparent.png\" style=\"position:reletive;margin-top:25pt;float:right;\" width=\"200\" height=\"200\"/>\n",
    "    <img src=\"../figs/University_of_Tehran_logo.svg\" style=\"position:reletive;margin-top:25pt;margin-left:20pt;float:left;\" width=\"150\" height=\"150\"/>\n",
    "\t\t<div align=center>\n",
    "\t\t\t<font  size=5 >\n",
    "\t\t\t\t<p></p>\n",
    "\t\t\t\t<p></p>\n",
    "                <br>\n",
    "                 آمار و احتمال مهندسی - دکتر بهرک\n",
    "\t\t\t\t<p></p>\n",
    "\t\t\t</font>\n",
    "\t\t</div>\n",
    "        <div align=center >\n",
    "                        <font size=30 >\n",
    "                            <br>\n",
    "                            مقدمات R\n",
    "                        </font>\n",
    "         </div>\n",
    "           <div align=center >\n",
    "                        <font size=3 >\n",
    "                            <br>\n",
    "تهیه و تنظیم : سپهر سعیدپور\n",
    "                            <br>\n",
    "sepehrsdp@gmail.com\n",
    "                        </font>\n",
    "        </div>\n",
    "    </div>\n",
    "</body>"
   ]
  },
  {
   "cell_type": "markdown",
   "metadata": {},
   "source": [
    "<div style=\"direction:rtl;line-height:300%;\">\n",
    "\t<font face=\"XB Niloofar\" size=5>\n",
    "\t\t<hr />\n",
    "\t\t<style type=\"text/css\" scoped>\n",
    "        p{\n",
    "        border: 1px solid #a2a9b1;background-color: #f8f9fa;display: inline-block;\n",
    "        };\n",
    "        </style>\n",
    "\t\t<div>\n",
    "\t\t\t<h3 style=\"color:#0051A2\">فهرست مطالب</h3>\n",
    "\t\t\t<ul style=\"margin-right: 0;\">\n",
    "                <li>\n",
    "\t\t\t\t\t<a href=\"#sec_installR\">\n",
    "                        نصب کردن R\n",
    "                    </a>\n",
    "\t\t\t\t</li>\n",
    "                <li>\n",
    "\t\t\t\t\t<a href=\"#sec_R_packages\">\n",
    "                      پکیج‌های R\n",
    "                    </a>\n",
    "\t\t\t\t</li>\n",
    "                <li>\n",
    "\t\t\t\t\t<a href=\"#sec_R_Intro\">\n",
    "                        مقدمات R\n",
    "                    </a>\n",
    "\t\t\t\t</li>\n",
    "                <li>\n",
    "\t\t\t\t\t<a href=\"#sec_statFunc\">\n",
    "                        توابع آماری\n",
    "                    </a>\n",
    "\t\t\t\t</li>\n",
    "                <li>\n",
    "\t\t\t\t\t<a href=\"#sec_R_DSs\">\n",
    "داده‌ساختار‌ها در R\n",
    "                    </a>\n",
    "\t\t\t\t</li>\n",
    "                <li>\n",
    "\t\t\t\t\t<a href=\"#sec_additional\">\n",
    "                        نکات تکمیلی\n",
    "                    </a>\n",
    "\t\t\t\t</li>\n",
    "\t\t\t</ul>\n",
    "            <hr>\n",
    "\t\t</div>\n",
    "\t</font>\n",
    "</div>"
   ]
  },
  {
   "cell_type": "markdown",
   "metadata": {},
   "source": [
    "<p></p>\n",
    "<br />\n",
    "<div id=\"sec_installR\" style=\"direction:rtl;line-height:300%;\">\n",
    "\t<font face=\"XB Niloofar\" size=5>\n",
    "\t\t<font color=#006FDE size=6>\n",
    "نصب کردن R\n",
    "        </font>\n",
    "\t\t<p></p>\n",
    "\t\t<hr>\n",
    "        ابتدا R را از <a href=\"https://cran.r-project.org/\">اینجا</a> دانلود کنید.\n",
    "        <br><br>\n",
    "        <font color=#000000 size=5>\n",
    "            <b>\n",
    "نصب کردن R بر روی Jupyter Notebook:\n",
    "            </b>\n",
    "        </font>\n",
    "        <br>\n",
    "        بعد از نصب‌کردن R ، آن را اجرا کنید. \n",
    "        <br>\n",
    "        در کنسولِ آن ، دستور زیر را اجرا کنید تا پکیج های مورد نیاز دانلود و نصب شود.\n",
    "        <br>\n",
    "\t</font>\n",
    "</div>"
   ]
  },
  {
   "cell_type": "code",
   "execution_count": 1,
   "metadata": {},
   "outputs": [
    {
     "name": "stderr",
     "output_type": "stream",
     "text": [
      "Installing packages into ‘/home/sepehr/R/x86_64-pc-linux-gnu-library/3.4’\n",
      "(as ‘lib’ is unspecified)\n",
      "also installing the dependencies ‘rlang’, ‘zeallot’, ‘processx’, ‘vctrs’, ‘fs’, ‘rex’, ‘callr’, ‘cli’, ‘praise’, ‘pillar’, ‘usethis’, ‘covr’, ‘DT’, ‘ellipsis’, ‘pkgbuild’, ‘rcmdcheck’, ‘remotes’, ‘rversions’, ‘testthat’\n",
      "\n"
     ]
    }
   ],
   "source": [
    "install.packages(c('repr', 'IRdisplay', 'evaluate', 'crayon', 'pbdZMQ', 'devtools', 'uuid', 'digest'))"
   ]
  },
  {
   "cell_type": "markdown",
   "metadata": {},
   "source": [
    "<div style=\"direction:rtl;line-height:300%;\">\n",
    "\t<font face=\"XB Niloofar\" size=5>\n",
    "    \tسپس با استفاده از پکیج devtools ، پکیج IRkernel را نصب می‌کنیم :\n",
    "        <br>\n",
    "        دستور زیر را اجرا کنید.\n",
    "    </font>\n",
    "</div>"
   ]
  },
  {
   "cell_type": "code",
   "execution_count": 2,
   "metadata": {},
   "outputs": [
    {
     "name": "stderr",
     "output_type": "stream",
     "text": [
      "Downloading GitHub repo IRkernel/IRkernel@master\n",
      "'/usr/bin/git' clone --depth 1 --no-hardlinks --recurse-submodules https://github.com/jupyter/jupyter_kernel_test.git /tmp/RtmpzD53Tl/remotesd4e1226515c/IRkernel-IRkernel-67592db/tests/testthat/jkt\n",
      "'/usr/bin/git' clone --depth 1 --no-hardlinks --recurse-submodules https://github.com/flying-sheep/ndjson-testrunner.git /tmp/RtmpzD53Tl/remotesd4e1226515c/IRkernel-IRkernel-67592db/tests/testthat/njr\n"
     ]
    },
    {
     "name": "stdout",
     "output_type": "stream",
     "text": [
      "Rcpp       (1.0.0 -> 1.0.2) [CRAN]\n",
      "assertthat (0.2.0 -> 0.2.1) [CRAN]\n",
      "backports  (1.1.3 -> 1.1.4) [CRAN]\n",
      "glue       (1.3.0 -> 1.3.1) [CRAN]\n"
     ]
    },
    {
     "name": "stderr",
     "output_type": "stream",
     "text": [
      "Installing 4 packages: Rcpp, assertthat, backports, glue\n",
      "Installing packages into ‘/home/sepehr/R/x86_64-pc-linux-gnu-library/3.4’\n",
      "(as ‘lib’ is unspecified)\n"
     ]
    },
    {
     "name": "stdout",
     "output_type": "stream",
     "text": [
      "✔  checking for file ‘/tmp/RtmpzD53Tl/remotesd4e1226515c/IRkernel-IRkernel-67592db/DESCRIPTION’ ...\n",
      "─  preparing ‘IRkernel’:\n",
      "✔  checking DESCRIPTION meta-information\n",
      "─  checking for LF line-endings in source and make files and shell scripts\n",
      "─  checking for empty or unneeded directories\n",
      "   Removed empty directory ‘IRkernel/example-notebooks’\n",
      "─  building ‘IRkernel_1.0.2.9000.tar.gz’\n",
      "   \n",
      "\r"
     ]
    },
    {
     "name": "stderr",
     "output_type": "stream",
     "text": [
      "Installing package into ‘/home/sepehr/R/x86_64-pc-linux-gnu-library/3.4’\n",
      "(as ‘lib’ is unspecified)\n"
     ]
    }
   ],
   "source": [
    "devtools::install_github('IRkernel/IRkernel')"
   ]
  },
  {
   "cell_type": "markdown",
   "metadata": {},
   "source": [
    "<div style=\"direction:rtl;line-height:300%;\">\n",
    "\t<font face=\"XB Niloofar\" size=5>\n",
    "\tو حال باید R kernel را برای Jupyter نمایان کنیم. \n",
    "    </font>\n",
    "</div>"
   ]
  },
  {
   "cell_type": "code",
   "execution_count": 4,
   "metadata": {},
   "outputs": [],
   "source": [
    "IRkernel::installspec()"
   ]
  },
  {
   "cell_type": "markdown",
   "metadata": {},
   "source": [
    "<br>\n",
    "<div id=\"sec_whatisR\" style=\"direction:rtl;line-height:300%;\">\n",
    "\t<font face=\"XB Niloofar\" size=5>\n",
    "        <font color=#000000 size=5>\n",
    "            <b>\n",
    "\tنصب R Studio :\n",
    "            </b>\n",
    "        </font>\n",
    "        <br>\n",
    "\tR studio  یک محیط گرافیکی برای کار باR  می‌باشد. برای نصب آن را از <a href=\"http://www.rstudio.com/products/rstudio/download/\">اینجا</a> دانلود کنید.\n",
    "        <br>\n",
    "\t</font>\n",
    "</div>"
   ]
  },
  {
   "cell_type": "markdown",
   "metadata": {},
   "source": [
    "<br>\n",
    "<div id=\"sec_R_packages\" style=\"direction:rtl;line-height:300%;\">\n",
    "\t<font face=\"XB Niloofar\" size=5>\n",
    "\t\t<font color=#006FDE size=6>\n",
    "        پکیج‌های R\n",
    "    </font>\n",
    "                <hr>\n",
    "        <b>\n",
    "        مجموعه دستورات مفید در ارتباط با پکیج‌ها :\n",
    "        </b>\n",
    "        <br>\n",
    "    </font>\n",
    "</div>"
   ]
  },
  {
   "cell_type": "code",
   "execution_count": 2,
   "metadata": {
    "scrolled": true
   },
   "outputs": [
    {
     "name": "stderr",
     "output_type": "stream",
     "text": [
      "Installing package into ‘/home/sepehr/R/x86_64-pc-linux-gnu-library/3.4’\n",
      "(as ‘lib’ is unspecified)\n",
      "\n",
      "Warning message:\n",
      "“package ‘package-name’ is not available (for R version 3.4.4)”\n",
      "Removing package from ‘/home/sepehr/R/x86_64-pc-linux-gnu-library/3.4’\n",
      "(as ‘lib’ is unspecified)\n",
      "\n"
     ]
    },
    {
     "ename": "ERROR",
     "evalue": "Error in find.package(pkgs, lib): there is no package called ‘’\n",
     "output_type": "error",
     "traceback": [
      "Error in find.package(pkgs, lib): there is no package called ‘’\nTraceback:\n",
      "1. remove.packages(\"\")",
      "2. find.package(pkgs, lib)",
      "3. stop(gettextf(\"there is no package called %s\", sQuote(pkg)), \n .     domain = NA)"
     ]
    }
   ],
   "source": [
    "## Installing a package\n",
    "install.packages(\"package-name\")\n",
    "\n",
    "## Removing a package\n",
    "remove.packages(\"\")\n",
    "\n",
    "## Installed packages that need to be updated\n",
    "old.packages()\n",
    "\n",
    "## Updating old packages\n",
    "update.packages()\n",
    "\n",
    "## Using a function from a package without loading the package \n",
    "### PackageName::function()\n",
    "ggplot2::geom_point"
   ]
  },
  {
   "cell_type": "markdown",
   "metadata": {},
   "source": [
    "<br>\n",
    "<div id=\"sec_R_Intro\" style=\"direction:rtl;line-height:300%;\">\n",
    "\t<font face=\"XB Niloofar\" size=5>\n",
    "\t\t<font color=#006FDE size=6>\n",
    "        مقدمات R\n",
    "            <hr>\n",
    "        </font>\n",
    "\t\t<p></p>\n",
    "\t</font>\n",
    "</div>"
   ]
  },
  {
   "cell_type": "code",
   "execution_count": 1,
   "metadata": {},
   "outputs": [
    {
     "name": "stdout",
     "output_type": "stream",
     "text": [
      "[1] \"Hello World!\"\n"
     ]
    }
   ],
   "source": [
    "\n",
    "print(\"Hello World!\")"
   ]
  },
  {
   "cell_type": "markdown",
   "metadata": {},
   "source": [
    "<br>\n",
    "<div id=\"sec_whatisR\" style=\"direction:rtl;line-height:300%;\">\n",
    "\t<font face=\"XB Niloofar\" size=5>\n",
    "        <font color=#000000 size=5>\n",
    "            <b>\n",
    "                چاپ کردن :\n",
    "            </b>\n",
    "        </font>\n",
    "        <br>\n",
    "        فرض کنید که می‌خواهیم مقدار یک عبارت و یا متغیر را نمایش دهیم. برای این کار کافیست تا آن عبارت و یا متغیر را اجرا کرده و نتیجه چاپ می‌شود.\n",
    "        <br>\n",
    "\t</font>\n",
    "</div>"
   ]
  },
  {
   "cell_type": "code",
   "execution_count": 6,
   "metadata": {},
   "outputs": [
    {
     "data": {
      "text/html": [
       "2"
      ],
      "text/latex": [
       "2"
      ],
      "text/markdown": [
       "2"
      ],
      "text/plain": [
       "[1] 2"
      ]
     },
     "metadata": {},
     "output_type": "display_data"
    },
    {
     "data": {
      "text/html": [
       "3.14159265358979"
      ],
      "text/latex": [
       "3.14159265358979"
      ],
      "text/markdown": [
       "3.14159265358979"
      ],
      "text/plain": [
       "[1] 3.141593"
      ]
     },
     "metadata": {},
     "output_type": "display_data"
    },
    {
     "data": {
      "text/html": [
       "2.82842712474619"
      ],
      "text/latex": [
       "2.82842712474619"
      ],
      "text/markdown": [
       "2.82842712474619"
      ],
      "text/plain": [
       "[1] 2.828427"
      ]
     },
     "metadata": {},
     "output_type": "display_data"
    }
   ],
   "source": [
    "1 + 1\n",
    "pi\n",
    "sqrt(8)"
   ]
  },
  {
   "cell_type": "markdown",
   "metadata": {},
   "source": [
    "<div id=\"sec_whatisR\" style=\"direction:rtl;line-height:300%;\">\n",
    "\t<font face=\"XB Niloofar\" size=5>\n",
    "        همینطور از تابع <code>()print</code> نیز برای چاپ کردن می‌توانیم استفاده کنیم.\n",
    "        <br>\n",
    "\t</font>\n",
    "</div>"
   ]
  },
  {
   "cell_type": "code",
   "execution_count": 7,
   "metadata": {},
   "outputs": [
    {
     "name": "stdout",
     "output_type": "stream",
     "text": [
      "[1] 3.141593\n"
     ]
    }
   ],
   "source": [
    "print(pi)"
   ]
  },
  {
   "cell_type": "markdown",
   "metadata": {},
   "source": [
    "<div id=\"sec_whatisR\" style=\"direction:rtl;line-height:300%;\">\n",
    "\t<font face=\"XB Niloofar\" size=5>\n",
    "        نکته‌ای که تابع <code>()print</code> را متمایز می کند این است که هر شی (Object) را که در R داریم در فرمت درست چاپ می‌کند.\n",
    "        <br>\n",
    "        به عنوان مثال در زیر یک ماتریس را چاپ می‌کنیم. (درباره‌ی داده‌ساختار‌ها در جلوتر صحبت خواهیم کرد.)\n",
    "\t</font>\n",
    "</div>"
   ]
  },
  {
   "cell_type": "code",
   "execution_count": 4,
   "metadata": {},
   "outputs": [
    {
     "name": "stdout",
     "output_type": "stream",
     "text": [
      "     [,1] [,2]\n",
      "[1,]    1    3\n",
      "[2,]    2    4\n"
     ]
    }
   ],
   "source": [
    "print(matrix(c(1,2,3,4),2,2))"
   ]
  },
  {
   "cell_type": "markdown",
   "metadata": {},
   "source": [
    "<div id=\"sec_whatisR\" style=\"direction:rtl;line-height:300%;\">\n",
    "\t<font face=\"XB Niloofar\" size=5>\n",
    "        توجه : تابع <code>()print</code> در هربار تنها یک شی را چاپ می‌کند.\n",
    "\t</font>\n",
    "</div>"
   ]
  },
  {
   "cell_type": "code",
   "execution_count": 5,
   "metadata": {},
   "outputs": [
    {
     "name": "stdout",
     "output_type": "stream",
     "text": [
      "[1] \"Pi number is equal to \"\n"
     ]
    }
   ],
   "source": [
    "print(\"Pi number is equal to \" , pi)"
   ]
  },
  {
   "cell_type": "markdown",
   "metadata": {},
   "source": [
    "<div id=\"sec_whatisR\" style=\"direction:rtl;line-height:300%;\">\n",
    "\t<font face=\"XB Niloofar\" size=5>\n",
    "        برای این‌کار از تابع <code>()cat</code> استفاده می‌کنیم. \n",
    "    </font>\n",
    "</div>"
   ]
  },
  {
   "cell_type": "code",
   "execution_count": 6,
   "metadata": {},
   "outputs": [
    {
     "name": "stdout",
     "output_type": "stream",
     "text": [
      "Pi number is equal to 3.141593 \n"
     ]
    }
   ],
   "source": [
    "cat(\"Pi number is equal to\", pi , \"\\n\")"
   ]
  },
  {
   "cell_type": "markdown",
   "metadata": {},
   "source": [
    "<div id=\"sec_whatisR\" style=\"direction:rtl;line-height:300%;\">\n",
    "\t<font face=\"XB Niloofar\" size=5>\n",
    "        تابع <code>()cat</code> توانایی چاپ بردار (Vector) های ساده را نیز دارد.\n",
    "    </font>\n",
    "</div>"
   ]
  },
  {
   "cell_type": "code",
   "execution_count": 7,
   "metadata": {},
   "outputs": [
    {
     "name": "stdout",
     "output_type": "stream",
     "text": [
      "12 months of the year are January February March April May June July August September October November December \n"
     ]
    }
   ],
   "source": [
    "cat(\"12 months of the year are\" , month.name , \"\\n\")"
   ]
  },
  {
   "cell_type": "markdown",
   "metadata": {},
   "source": [
    "<div id=\"sec_whatisR\" style=\"direction:rtl;line-height:300%;\">\n",
    "\t<font face=\"XB Niloofar\" size=5>\n",
    "(month.name و pi از جمله ثابت هایی هستند که خود R فراهم می‌کند.)\n",
    "    </font>\n",
    "</div>"
   ]
  },
  {
   "cell_type": "markdown",
   "metadata": {},
   "source": [
    "<br>\n",
    "<div id=\"sec_whatisR\" style=\"direction:rtl;line-height:300%;\">\n",
    "\t<font face=\"XB Niloofar\" size=5>\n",
    "        <font color=#000000 size=5>\n",
    "            <b>\n",
    "            تعریف متغیر :\n",
    "            </b>\n",
    "        </font>\n",
    "        <br>\n",
    "        در R برای تعریف یک متغیر نیاز به آوردن نوع آن نمی‌باشد. کافیست از عملگر <code>-&gt;</code> استفاده کنیم.\n",
    "\t</font>\n",
    "</div>"
   ]
  },
  {
   "cell_type": "code",
   "execution_count": 1,
   "metadata": {},
   "outputs": [
    {
     "data": {
      "text/html": [
       "'this is a string'"
      ],
      "text/latex": [
       "'this is a string'"
      ],
      "text/markdown": [
       "'this is a string'"
      ],
      "text/plain": [
       "[1] \"this is a string\""
      ]
     },
     "metadata": {},
     "output_type": "display_data"
    },
    {
     "name": "stdout",
     "output_type": "stream",
     "text": [
      "[1] \"salam\"\n"
     ]
    }
   ],
   "source": [
    "s <- \"this is a string\"\n",
    "a = \"salam\"\n",
    "x <- 4\n",
    "s\n",
    "print(a)"
   ]
  },
  {
   "cell_type": "markdown",
   "metadata": {},
   "source": [
    "<div id=\"sec_whatisR\" style=\"direction:rtl;line-height:300%;\">\n",
    "\t<font face=\"XB Niloofar\" size=5>\n",
    "        نکته 1 : در اسم‌گذاری شی‌ها (Objects) می‌توانید از نقطه \".\" نیز در نام آن‌ها استفاده‌کنید همانطور که در بالاتر دیدیم month.name اسم یک بردار در R می‌باشد.\n",
    "        <br>\n",
    "        نکته 2 : از = نیز می‌توان برای مقدار‌دهی استفاده کرد ، اما در R ، عملگر =  کاربرد دیگری نیز دارد که آن مشخص کردن یک پارامتر در یک تابع می‌باشد. برای همین بهتر است از <code>-&gt;</code> استفاده کنیم.\n",
    "        <br>\n",
    "        <a href=\"https://renkun.me/2014/01/28/difference-between-assignment-operators-in-r/\">اینجا</a> را مطالعه کنید.\n",
    "    <br><br>\n",
    "        با تعریف یک متغیر به این شکل ، متغیر در workspace نگه داشته می‌شود.\n",
    "        <br>\n",
    "        برای مشاهده متغیر‌ها و توابعی که در workspace ما قرار دارد از تابع <code>()ls</code> استفاده می‌کنیم.\n",
    "        <br>\n",
    "        برای دریافت جزئیات از <code>()ls.str</code> استفاده کنید.\n",
    "    </font>\n",
    "</div>"
   ]
  },
  {
   "cell_type": "code",
   "execution_count": 9,
   "metadata": {},
   "outputs": [
    {
     "data": {
      "text/html": [
       "<ol class=list-inline>\n",
       "\t<li>'s'</li>\n",
       "\t<li>'x'</li>\n",
       "</ol>\n"
      ],
      "text/latex": [
       "\\begin{enumerate*}\n",
       "\\item 's'\n",
       "\\item 'x'\n",
       "\\end{enumerate*}\n"
      ],
      "text/markdown": [
       "1. 's'\n",
       "2. 'x'\n",
       "\n",
       "\n"
      ],
      "text/plain": [
       "[1] \"s\" \"x\""
      ]
     },
     "metadata": {},
     "output_type": "display_data"
    },
    {
     "data": {
      "text/plain": [
       "s :  chr \"this is a string\"\n",
       "x :  num 4"
      ]
     },
     "metadata": {},
     "output_type": "display_data"
    },
    {
     "data": {
      "text/html": [
       "<ol class=list-inline>\n",
       "\t<li>'a'</li>\n",
       "\t<li>'s'</li>\n",
       "\t<li>'x'</li>\n",
       "</ol>\n"
      ],
      "text/latex": [
       "\\begin{enumerate*}\n",
       "\\item 'a'\n",
       "\\item 's'\n",
       "\\item 'x'\n",
       "\\end{enumerate*}\n"
      ],
      "text/markdown": [
       "1. 'a'\n",
       "2. 's'\n",
       "3. 'x'\n",
       "\n",
       "\n"
      ],
      "text/plain": [
       "[1] \"a\" \"s\" \"x\""
      ]
     },
     "metadata": {},
     "output_type": "display_data"
    },
    {
     "data": {
      "text/plain": [
       "a :  num 4\n",
       "s :  chr \"this is a string\"\n",
       "x :  num 4"
      ]
     },
     "metadata": {},
     "output_type": "display_data"
    }
   ],
   "source": [
    "ls()\n",
    "ls.str()\n",
    "a <- 4\n",
    "ls()\n",
    "ls.str()"
   ]
  },
  {
   "cell_type": "markdown",
   "metadata": {},
   "source": [
    "<div id=\"sec_whatisR\" style=\"direction:rtl;line-height:300%;\">\n",
    "\t<font face=\"XB Niloofar\" size=5>\n",
    "        با استفاده از دستور <code>()rm</code> می‌توانید متغیر‌ها را از workspace خود پاک کنید.\n",
    "    </font>\n",
    "</div>"
   ]
  },
  {
   "cell_type": "code",
   "execution_count": 10,
   "metadata": {},
   "outputs": [
    {
     "name": "stdout",
     "output_type": "stream",
     "text": [
      "[1] \"Removing x\"\n"
     ]
    },
    {
     "data": {
      "text/plain": [
       "a :  num 4\n",
       "s :  chr \"this is a string\""
      ]
     },
     "metadata": {},
     "output_type": "display_data"
    },
    {
     "name": "stdout",
     "output_type": "stream",
     "text": [
      "[1] \"The workspace now :\"\n"
     ]
    },
    {
     "data": {
      "text/html": [],
      "text/latex": [],
      "text/markdown": [],
      "text/plain": [
       "character(0)"
      ]
     },
     "metadata": {},
     "output_type": "display_data"
    }
   ],
   "source": [
    "print(\"Removing x\")\n",
    "rm(\"x\")\n",
    "ls.str()\n",
    "\n",
    "##Clearing the workspace\n",
    "rm(list = ls())\n",
    "\n",
    "print(\"The workspace now :\")\n",
    "ls()\n"
   ]
  },
  {
   "cell_type": "markdown",
   "metadata": {},
   "source": [
    "<br>\n",
    "<div id=\"sec_whatisR\" style=\"direction:rtl;line-height:300%;\">\n",
    "\t<font face=\"XB Niloofar\" size=5>\n",
    "        <font color=#000000 size=5>\n",
    "            <b>\n",
    "کمک گرفتن در R :\n",
    "            </b>\n",
    "        </font>\n",
    "        <br>\n",
    "        یکی از بهترین راه‌های یادگیری و کمک گرفتن ، مطالعه مستندات پکیج‌ها و توابع می‌باشد که در خود R موجود می‌باشند.\n",
    "        <br><br>\n",
    "        از روش‌های زیر می‌توانید این مستندات را ببینید.\n",
    "        </font>\n",
    "</div>"
   ]
  },
  {
   "cell_type": "code",
   "execution_count": 10,
   "metadata": {},
   "outputs": [
    {
     "data": {
      "text/plain": [
       "No vignettes or demos or help files found with alias or concept or\n",
       "title matching ‘highchart’ using fuzzy matching."
      ]
     },
     "metadata": {},
     "output_type": "display_data"
    },
    {
     "name": "stderr",
     "output_type": "stream",
     "text": [
      "Warning message:\n",
      "“vignette ‘’ not found”"
     ]
    }
   ],
   "source": [
    "## Documentation of installed functions\n",
    "?mean\n",
    "\n",
    "## Documentation of functions\n",
    "??highchart\n",
    "\n",
    "## Documentation of packages or functions\n",
    "help(\"\")\n",
    "\n",
    "#### Getting help on packages\n",
    "vignette(\"\")"
   ]
  },
  {
   "cell_type": "markdown",
   "metadata": {},
   "source": [
    "<br>\n",
    "<div id=\"sec_whatisR\" style=\"direction:rtl;line-height:300%;\">\n",
    "\t<font face=\"XB Niloofar\" size=5>\n",
    "        <font color=#000000 size=5>\n",
    "            <b>\n",
    "                ساخت یک بردار :\n",
    "            </b>\n",
    "        </font>\n",
    "        <br>\n",
    "            بردار‌ها از اصلی ترین قسمت‌های R می‌باشند. بردار‌ها می‌توانند شامل اعداد ، رشته‌ها یا مقادیر منطقی باشند اما نمی‌توانند به صورت ترکیبی از چند نوع باشند.\n",
    "        <br>\n",
    "        با عملگر <code>()c</code> می‌توانید یک بردار بسازید.\n",
    "        </font>\n",
    "</div>"
   ]
  },
  {
   "cell_type": "code",
   "execution_count": 4,
   "metadata": {},
   "outputs": [
    {
     "data": {
      "text/html": [
       "<ol class=list-inline>\n",
       "\t<li>1</li>\n",
       "\t<li>3</li>\n",
       "\t<li>9.42477796076938</li>\n",
       "\t<li>1</li>\n",
       "</ol>\n"
      ],
      "text/latex": [
       "\\begin{enumerate*}\n",
       "\\item 1\n",
       "\\item 3\n",
       "\\item 9.42477796076938\n",
       "\\item 1\n",
       "\\end{enumerate*}\n"
      ],
      "text/markdown": [
       "1. 1\n",
       "2. 3\n",
       "3. 9.42477796076938\n",
       "4. 1\n",
       "\n",
       "\n"
      ],
      "text/plain": [
       "[1] 1.000000 3.000000 9.424778 1.000000"
      ]
     },
     "metadata": {},
     "output_type": "display_data"
    },
    {
     "data": {
      "text/html": [
       "<ol class=list-inline>\n",
       "\t<li>TRUE</li>\n",
       "\t<li>FALSE</li>\n",
       "\t<li>TRUE</li>\n",
       "</ol>\n"
      ],
      "text/latex": [
       "\\begin{enumerate*}\n",
       "\\item TRUE\n",
       "\\item FALSE\n",
       "\\item TRUE\n",
       "\\end{enumerate*}\n"
      ],
      "text/markdown": [
       "1. TRUE\n",
       "2. FALSE\n",
       "3. TRUE\n",
       "\n",
       "\n"
      ],
      "text/plain": [
       "[1]  TRUE FALSE  TRUE"
      ]
     },
     "metadata": {},
     "output_type": "display_data"
    }
   ],
   "source": [
    "c(1,3,3*pi,T)\n",
    "c(T,F,T)"
   ]
  },
  {
   "cell_type": "markdown",
   "metadata": {},
   "source": [
    "<div id=\"sec_whatisR\" style=\"direction:rtl;line-height:300%;\">\n",
    "\t<font face=\"XB Niloofar\" size=5>\n",
    "        اگر مقادیر داده شده به <code>()c</code> خود ، بردار باشند آن‌ها را باز کرده و با دیگر مقادیر ترکیب می‌کند.\n",
    "    </font>\n",
    "</div>"
   ]
  },
  {
   "cell_type": "code",
   "execution_count": 14,
   "metadata": {},
   "outputs": [
    {
     "data": {
      "text/html": [
       "<ol class=list-inline>\n",
       "\t<li>2</li>\n",
       "\t<li>1</li>\n",
       "\t<li>4</li>\n",
       "\t<li>5</li>\n",
       "\t<li>8</li>\n",
       "\t<li>5</li>\n",
       "\t<li>6</li>\n",
       "\t<li>0</li>\n",
       "</ol>\n"
      ],
      "text/latex": [
       "\\begin{enumerate*}\n",
       "\\item 2\n",
       "\\item 1\n",
       "\\item 4\n",
       "\\item 5\n",
       "\\item 8\n",
       "\\item 5\n",
       "\\item 6\n",
       "\\item 0\n",
       "\\end{enumerate*}\n"
      ],
      "text/markdown": [
       "1. 2\n",
       "2. 1\n",
       "3. 4\n",
       "4. 5\n",
       "5. 8\n",
       "6. 5\n",
       "7. 6\n",
       "8. 0\n",
       "\n",
       "\n"
      ],
      "text/plain": [
       "[1] 2 1 4 5 8 5 6 0"
      ]
     },
     "metadata": {},
     "output_type": "display_data"
    }
   ],
   "source": [
    "v1 <- c(1,4,5)\n",
    "v2 <- c(8,5,6)\n",
    "c(2,v1,v2,0)"
   ]
  },
  {
   "cell_type": "markdown",
   "metadata": {},
   "source": [
    "<br>\n",
    "<div id=\"sec_whatisR\" style=\"direction:rtl;line-height:300%;\">\n",
    "\t<font face=\"XB Niloofar\" size=5>\n",
    "        <font color=#000000 size=5>\n",
    "            <b>\n",
    "                مقایسه دو بردار :\n",
    "            </b>\n",
    "            <br>\n",
    "        </font>\n",
    "            با مقایسه دو بردار ، R عضو به عضو دو بردار را مقایسه کرده و برداری از مقادیر منطقی True – False برمی‌گرداند.\n",
    "        </font>\n",
    "</div>"
   ]
  },
  {
   "cell_type": "code",
   "execution_count": 6,
   "metadata": {},
   "outputs": [
    {
     "data": {
      "text/html": [
       "<ol class=list-inline>\n",
       "\t<li>TRUE</li>\n",
       "\t<li>FALSE</li>\n",
       "\t<li>TRUE</li>\n",
       "</ol>\n"
      ],
      "text/latex": [
       "\\begin{enumerate*}\n",
       "\\item TRUE\n",
       "\\item FALSE\n",
       "\\item TRUE\n",
       "\\end{enumerate*}\n"
      ],
      "text/markdown": [
       "1. TRUE\n",
       "2. FALSE\n",
       "3. TRUE\n",
       "\n",
       "\n"
      ],
      "text/plain": [
       "[1]  TRUE FALSE  TRUE"
      ]
     },
     "metadata": {},
     "output_type": "display_data"
    },
    {
     "data": {
      "text/html": [
       "<ol class=list-inline>\n",
       "\t<li>FALSE</li>\n",
       "\t<li>FALSE</li>\n",
       "\t<li>TRUE</li>\n",
       "</ol>\n"
      ],
      "text/latex": [
       "\\begin{enumerate*}\n",
       "\\item FALSE\n",
       "\\item FALSE\n",
       "\\item TRUE\n",
       "\\end{enumerate*}\n"
      ],
      "text/markdown": [
       "1. FALSE\n",
       "2. FALSE\n",
       "3. TRUE\n",
       "\n",
       "\n"
      ],
      "text/plain": [
       "[1] FALSE FALSE  TRUE"
      ]
     },
     "metadata": {},
     "output_type": "display_data"
    }
   ],
   "source": [
    "v <- c(2,4,6)\n",
    "u <- c(3,4,5)\n",
    "\n",
    "u != v   # 2 != 3  4 == 4  6 != 5\n",
    "\n",
    "v > u    # 2 < 3   4 == 4   6 > 5"
   ]
  },
  {
   "cell_type": "markdown",
   "metadata": {},
   "source": [
    "<div id=\"sec_whatisR\" style=\"direction:rtl;line-height:300%;\">\n",
    "\t<font face=\"XB Niloofar\" size=5>\n",
    "        همین طور :\n",
    "    </font>\n",
    "</div>"
   ]
  },
  {
   "cell_type": "code",
   "execution_count": 7,
   "metadata": {},
   "outputs": [
    {
     "data": {
      "text/html": [
       "<ol class=list-inline>\n",
       "\t<li>FALSE</li>\n",
       "\t<li>FALSE</li>\n",
       "\t<li>TRUE</li>\n",
       "</ol>\n"
      ],
      "text/latex": [
       "\\begin{enumerate*}\n",
       "\\item FALSE\n",
       "\\item FALSE\n",
       "\\item TRUE\n",
       "\\end{enumerate*}\n"
      ],
      "text/markdown": [
       "1. FALSE\n",
       "2. FALSE\n",
       "3. TRUE\n",
       "\n",
       "\n"
      ],
      "text/plain": [
       "[1] FALSE FALSE  TRUE"
      ]
     },
     "metadata": {},
     "output_type": "display_data"
    },
    {
     "data": {
      "text/html": [
       "<ol class=list-inline>\n",
       "\t<li>FALSE</li>\n",
       "\t<li>TRUE</li>\n",
       "\t<li>TRUE</li>\n",
       "</ol>\n"
      ],
      "text/latex": [
       "\\begin{enumerate*}\n",
       "\\item FALSE\n",
       "\\item TRUE\n",
       "\\item TRUE\n",
       "\\end{enumerate*}\n"
      ],
      "text/markdown": [
       "1. FALSE\n",
       "2. TRUE\n",
       "3. TRUE\n",
       "\n",
       "\n"
      ],
      "text/plain": [
       "[1] FALSE  TRUE  TRUE"
      ]
     },
     "metadata": {},
     "output_type": "display_data"
    }
   ],
   "source": [
    "u > c(4,4,4)\n",
    "v*2 > 7"
   ]
  },
  {
   "cell_type": "markdown",
   "metadata": {},
   "source": [
    "<br>\n",
    "<div id=\"sec_whatisR\" style=\"direction:rtl;line-height:300%;\">\n",
    "\t<font face=\"XB Niloofar\" size=5>\n",
    "        <font color=#000000 size=5>\n",
    "            <b>\n",
    "انتخاب یک یا چند عضو بردار :\n",
    "            </b>\n",
    "            <br>\n",
    "        </font>\n",
    "        بر حسب شرایط به یک یا چند روش زیر عمل می‌کنیم.\n",
    "        <br>\n",
    "        <br>\n",
    "        - استفاده از کروشه و انتخاب اعضا بر حسب اندیس آن‌ها. (توجه کنید که R اندیس‌ها از 1 شروع می‌شود.)\n",
    "        </font>\n",
    "</div>"
   ]
  },
  {
   "cell_type": "code",
   "execution_count": 1,
   "metadata": {},
   "outputs": [
    {
     "data": {
      "text/html": [
       "0"
      ],
      "text/latex": [
       "0"
      ],
      "text/markdown": [
       "0"
      ],
      "text/plain": [
       "[1] 0"
      ]
     },
     "metadata": {},
     "output_type": "display_data"
    }
   ],
   "source": [
    "v <- c(0,10,20,30,7,11,23)\n",
    "v[1]"
   ]
  },
  {
   "cell_type": "markdown",
   "metadata": {},
   "source": [
    "<div id=\"sec_whatisR\" style=\"direction:rtl;line-height:300%;\">\n",
    "\t<font face=\"XB Niloofar\" size=5>\n",
    "        - استفاده از اندیس های منفی به عنوان اعضای مستثنی شده.\n",
    "    </font>\n",
    "</div>"
   ]
  },
  {
   "cell_type": "code",
   "execution_count": 18,
   "metadata": {},
   "outputs": [
    {
     "data": {
      "text/html": [
       "<ol class=list-inline>\n",
       "\t<li>10</li>\n",
       "\t<li>20</li>\n",
       "\t<li>30</li>\n",
       "\t<li>7</li>\n",
       "\t<li>11</li>\n",
       "\t<li>23</li>\n",
       "</ol>\n"
      ],
      "text/latex": [
       "\\begin{enumerate*}\n",
       "\\item 10\n",
       "\\item 20\n",
       "\\item 30\n",
       "\\item 7\n",
       "\\item 11\n",
       "\\item 23\n",
       "\\end{enumerate*}\n"
      ],
      "text/markdown": [
       "1. 10\n",
       "2. 20\n",
       "3. 30\n",
       "4. 7\n",
       "5. 11\n",
       "6. 23\n",
       "\n",
       "\n"
      ],
      "text/plain": [
       "[1] 10 20 30  7 11 23"
      ]
     },
     "metadata": {},
     "output_type": "display_data"
    }
   ],
   "source": [
    "v[-1]"
   ]
  },
  {
   "cell_type": "markdown",
   "metadata": {},
   "source": [
    "<div id=\"sec_whatisR\" style=\"direction:rtl;line-height:300%;\">\n",
    "\t<font face=\"XB Niloofar\" size=5>\n",
    "        - استفاده از برداری از اندیس‌ها برای انتخاب چند عضو\n",
    "    </font>\n",
    "</div>"
   ]
  },
  {
   "cell_type": "code",
   "execution_count": 19,
   "metadata": {},
   "outputs": [
    {
     "data": {
      "text/html": [
       "<ol class=list-inline>\n",
       "\t<li>10</li>\n",
       "\t<li>20</li>\n",
       "\t<li>30</li>\n",
       "</ol>\n"
      ],
      "text/latex": [
       "\\begin{enumerate*}\n",
       "\\item 10\n",
       "\\item 20\n",
       "\\item 30\n",
       "\\end{enumerate*}\n"
      ],
      "text/markdown": [
       "1. 10\n",
       "2. 20\n",
       "3. 30\n",
       "\n",
       "\n"
      ],
      "text/plain": [
       "[1] 10 20 30"
      ]
     },
     "metadata": {},
     "output_type": "display_data"
    },
    {
     "data": {
      "text/html": [
       "<ol class=list-inline>\n",
       "\t<li>10</li>\n",
       "\t<li>20</li>\n",
       "\t<li>30</li>\n",
       "</ol>\n"
      ],
      "text/latex": [
       "\\begin{enumerate*}\n",
       "\\item 10\n",
       "\\item 20\n",
       "\\item 30\n",
       "\\end{enumerate*}\n"
      ],
      "text/markdown": [
       "1. 10\n",
       "2. 20\n",
       "3. 30\n",
       "\n",
       "\n"
      ],
      "text/plain": [
       "[1] 10 20 30"
      ]
     },
     "metadata": {},
     "output_type": "display_data"
    },
    {
     "data": {
      "text/html": [
       "<ol class=list-inline>\n",
       "\t<li>0</li>\n",
       "\t<li>7</li>\n",
       "\t<li>11</li>\n",
       "\t<li>23</li>\n",
       "</ol>\n"
      ],
      "text/latex": [
       "\\begin{enumerate*}\n",
       "\\item 0\n",
       "\\item 7\n",
       "\\item 11\n",
       "\\item 23\n",
       "\\end{enumerate*}\n"
      ],
      "text/markdown": [
       "1. 0\n",
       "2. 7\n",
       "3. 11\n",
       "4. 23\n",
       "\n",
       "\n"
      ],
      "text/plain": [
       "[1]  0  7 11 23"
      ]
     },
     "metadata": {},
     "output_type": "display_data"
    }
   ],
   "source": [
    "v[2:4]\n",
    "v[c(2,3,4)]\n",
    "v[-c(2,3,4)]"
   ]
  },
  {
   "cell_type": "markdown",
   "metadata": {},
   "source": [
    "<div id=\"sec_whatisR\" style=\"direction:rtl;line-height:300%;\">\n",
    "\t<font face=\"XB Niloofar\" size=5>\n",
    "        - استفاده از یک بردار منطقی (در بالاتر دیدیم که با اعمال عملگر‌های منطقی بر یک بردار ، خروجی یک بردار شامل مقادیر منطقی می‌باشد.)\n",
    "    </font>\n",
    "</div>"
   ]
  },
  {
   "cell_type": "code",
   "execution_count": 20,
   "metadata": {},
   "outputs": [
    {
     "data": {
      "text/html": [
       "<ol class=list-inline>\n",
       "\t<li>10</li>\n",
       "\t<li>20</li>\n",
       "\t<li>30</li>\n",
       "\t<li>11</li>\n",
       "\t<li>23</li>\n",
       "</ol>\n"
      ],
      "text/latex": [
       "\\begin{enumerate*}\n",
       "\\item 10\n",
       "\\item 20\n",
       "\\item 30\n",
       "\\item 11\n",
       "\\item 23\n",
       "\\end{enumerate*}\n"
      ],
      "text/markdown": [
       "1. 10\n",
       "2. 20\n",
       "3. 30\n",
       "4. 11\n",
       "5. 23\n",
       "\n",
       "\n"
      ],
      "text/plain": [
       "[1] 10 20 30 11 23"
      ]
     },
     "metadata": {},
     "output_type": "display_data"
    },
    {
     "data": {
      "text/html": [
       "<ol class=list-inline>\n",
       "\t<li>20</li>\n",
       "\t<li>30</li>\n",
       "\t<li>23</li>\n",
       "</ol>\n"
      ],
      "text/latex": [
       "\\begin{enumerate*}\n",
       "\\item 20\n",
       "\\item 30\n",
       "\\item 23\n",
       "\\end{enumerate*}\n"
      ],
      "text/markdown": [
       "1. 20\n",
       "2. 30\n",
       "3. 23\n",
       "\n",
       "\n"
      ],
      "text/plain": [
       "[1] 20 30 23"
      ]
     },
     "metadata": {},
     "output_type": "display_data"
    }
   ],
   "source": [
    "v[v > 8]\n",
    "v[v > median(v)]"
   ]
  },
  {
   "cell_type": "markdown",
   "metadata": {},
   "source": [
    "<br>\n",
    "<div id=\"sec_whatisR\" style=\"direction:rtl;line-height:300%;\">\n",
    "\t<font face=\"XB Niloofar\" size=5>\n",
    "        <font color=#000000 size=5>\n",
    "            <b>\n",
    "تولید دنباله‌ای از اعداد :\n",
    "            </b>\n",
    "            <br>\n",
    "        </font>\n",
    "          - ساده‌ترین راه تولید دنباله با افزایش 1 :\n",
    "        </font>\n",
    "</div>"
   ]
  },
  {
   "cell_type": "code",
   "execution_count": 21,
   "metadata": {},
   "outputs": [
    {
     "data": {
      "text/html": [
       "<ol class=list-inline>\n",
       "\t<li>4</li>\n",
       "\t<li>5</li>\n",
       "\t<li>6</li>\n",
       "\t<li>7</li>\n",
       "\t<li>8</li>\n",
       "\t<li>9</li>\n",
       "</ol>\n"
      ],
      "text/latex": [
       "\\begin{enumerate*}\n",
       "\\item 4\n",
       "\\item 5\n",
       "\\item 6\n",
       "\\item 7\n",
       "\\item 8\n",
       "\\item 9\n",
       "\\end{enumerate*}\n"
      ],
      "text/markdown": [
       "1. 4\n",
       "2. 5\n",
       "3. 6\n",
       "4. 7\n",
       "5. 8\n",
       "6. 9\n",
       "\n",
       "\n"
      ],
      "text/plain": [
       "[1] 4 5 6 7 8 9"
      ]
     },
     "metadata": {},
     "output_type": "display_data"
    },
    {
     "data": {
      "text/html": [
       "<ol class=list-inline>\n",
       "\t<li>-3</li>\n",
       "\t<li>-2</li>\n",
       "\t<li>-1</li>\n",
       "\t<li>0</li>\n",
       "\t<li>1</li>\n",
       "\t<li>2</li>\n",
       "\t<li>3</li>\n",
       "\t<li>4</li>\n",
       "\t<li>5</li>\n",
       "\t<li>6</li>\n",
       "\t<li>7</li>\n",
       "</ol>\n"
      ],
      "text/latex": [
       "\\begin{enumerate*}\n",
       "\\item -3\n",
       "\\item -2\n",
       "\\item -1\n",
       "\\item 0\n",
       "\\item 1\n",
       "\\item 2\n",
       "\\item 3\n",
       "\\item 4\n",
       "\\item 5\n",
       "\\item 6\n",
       "\\item 7\n",
       "\\end{enumerate*}\n"
      ],
      "text/markdown": [
       "1. -3\n",
       "2. -2\n",
       "3. -1\n",
       "4. 0\n",
       "5. 1\n",
       "6. 2\n",
       "7. 3\n",
       "8. 4\n",
       "9. 5\n",
       "10. 6\n",
       "11. 7\n",
       "\n",
       "\n"
      ],
      "text/plain": [
       " [1] -3 -2 -1  0  1  2  3  4  5  6  7"
      ]
     },
     "metadata": {},
     "output_type": "display_data"
    }
   ],
   "source": [
    "4:9\n",
    "-3:7"
   ]
  },
  {
   "cell_type": "markdown",
   "metadata": {},
   "source": [
    "<div id=\"sec_whatisR\" style=\"direction:rtl;line-height:300%;\">\n",
    "\t<font face=\"XB Niloofar\" size=5>\n",
    "        فکر می‌کنید خروجی 6:4 چیست ؟\n",
    "    </font>\n",
    "</div>"
   ]
  },
  {
   "cell_type": "code",
   "execution_count": 22,
   "metadata": {},
   "outputs": [
    {
     "data": {
      "text/html": [
       "<ol class=list-inline>\n",
       "\t<li>6</li>\n",
       "\t<li>5</li>\n",
       "\t<li>4</li>\n",
       "</ol>\n"
      ],
      "text/latex": [
       "\\begin{enumerate*}\n",
       "\\item 6\n",
       "\\item 5\n",
       "\\item 4\n",
       "\\end{enumerate*}\n"
      ],
      "text/markdown": [
       "1. 6\n",
       "2. 5\n",
       "3. 4\n",
       "\n",
       "\n"
      ],
      "text/plain": [
       "[1] 6 5 4"
      ]
     },
     "metadata": {},
     "output_type": "display_data"
    }
   ],
   "source": [
    "6:4"
   ]
  },
  {
   "cell_type": "markdown",
   "metadata": {},
   "source": [
    "<div id=\"sec_whatisR\" style=\"direction:rtl;line-height:300%;\">\n",
    "\t<font face=\"XB Niloofar\" size=5>\n",
    "        <br>\n",
    "        - می‌توانید برای ایجاد دنباله‌هایی با هر مقدار افزایش و یا با طول دنباله ایجاد شده  مشخص از تابع <code>()seq</code> استفاده کنید.\n",
    "    </font>\n",
    "</div>"
   ]
  },
  {
   "cell_type": "code",
   "execution_count": 8,
   "metadata": {},
   "outputs": [
    {
     "data": {
      "text/html": [
       "<ol class=list-inline>\n",
       "\t<li>3</li>\n",
       "\t<li>5</li>\n",
       "\t<li>7</li>\n",
       "</ol>\n"
      ],
      "text/latex": [
       "\\begin{enumerate*}\n",
       "\\item 3\n",
       "\\item 5\n",
       "\\item 7\n",
       "\\end{enumerate*}\n"
      ],
      "text/markdown": [
       "1. 3\n",
       "2. 5\n",
       "3. 7\n",
       "\n",
       "\n"
      ],
      "text/plain": [
       "[1] 3 5 7"
      ]
     },
     "metadata": {},
     "output_type": "display_data"
    },
    {
     "data": {
      "text/html": [
       "<ol class=list-inline>\n",
       "\t<li>5</li>\n",
       "\t<li>10</li>\n",
       "\t<li>15</li>\n",
       "\t<li>20</li>\n",
       "</ol>\n"
      ],
      "text/latex": [
       "\\begin{enumerate*}\n",
       "\\item 5\n",
       "\\item 10\n",
       "\\item 15\n",
       "\\item 20\n",
       "\\end{enumerate*}\n"
      ],
      "text/markdown": [
       "1. 5\n",
       "2. 10\n",
       "3. 15\n",
       "4. 20\n",
       "\n",
       "\n"
      ],
      "text/plain": [
       "[1]  5 10 15 20"
      ]
     },
     "metadata": {},
     "output_type": "display_data"
    },
    {
     "data": {
      "text/html": [
       "<ol class=list-inline>\n",
       "\t<li>1</li>\n",
       "\t<li>1.09090909090909</li>\n",
       "\t<li>1.18181818181818</li>\n",
       "\t<li>1.27272727272727</li>\n",
       "\t<li>1.36363636363636</li>\n",
       "\t<li>1.45454545454545</li>\n",
       "\t<li>1.54545454545455</li>\n",
       "\t<li>1.63636363636364</li>\n",
       "\t<li>1.72727272727273</li>\n",
       "\t<li>1.81818181818182</li>\n",
       "\t<li>1.90909090909091</li>\n",
       "\t<li>2</li>\n",
       "\t<li>2.09090909090909</li>\n",
       "\t<li>2.18181818181818</li>\n",
       "\t<li>2.27272727272727</li>\n",
       "\t<li>2.36363636363636</li>\n",
       "\t<li>2.45454545454545</li>\n",
       "\t<li>2.54545454545455</li>\n",
       "\t<li>2.63636363636364</li>\n",
       "\t<li>2.72727272727273</li>\n",
       "\t<li>2.81818181818182</li>\n",
       "\t<li>2.90909090909091</li>\n",
       "\t<li>3</li>\n",
       "\t<li>3.09090909090909</li>\n",
       "\t<li>3.18181818181818</li>\n",
       "\t<li>3.27272727272727</li>\n",
       "\t<li>3.36363636363636</li>\n",
       "\t<li>3.45454545454545</li>\n",
       "\t<li>3.54545454545455</li>\n",
       "\t<li>3.63636363636364</li>\n",
       "\t<li>3.72727272727273</li>\n",
       "\t<li>3.81818181818182</li>\n",
       "\t<li>3.90909090909091</li>\n",
       "\t<li>4</li>\n",
       "\t<li>4.09090909090909</li>\n",
       "\t<li>4.18181818181818</li>\n",
       "\t<li>4.27272727272727</li>\n",
       "\t<li>4.36363636363636</li>\n",
       "\t<li>4.45454545454546</li>\n",
       "\t<li>4.54545454545454</li>\n",
       "\t<li>4.63636363636364</li>\n",
       "\t<li>4.72727272727273</li>\n",
       "\t<li>4.81818181818182</li>\n",
       "\t<li>4.90909090909091</li>\n",
       "\t<li>5</li>\n",
       "\t<li>5.09090909090909</li>\n",
       "\t<li>5.18181818181818</li>\n",
       "\t<li>5.27272727272727</li>\n",
       "\t<li>5.36363636363636</li>\n",
       "\t<li>5.45454545454546</li>\n",
       "\t<li>5.54545454545455</li>\n",
       "\t<li>5.63636363636364</li>\n",
       "\t<li>5.72727272727273</li>\n",
       "\t<li>5.81818181818182</li>\n",
       "\t<li>5.90909090909091</li>\n",
       "\t<li>6</li>\n",
       "\t<li>6.09090909090909</li>\n",
       "\t<li>6.18181818181818</li>\n",
       "\t<li>6.27272727272727</li>\n",
       "\t<li>6.36363636363636</li>\n",
       "\t<li>6.45454545454546</li>\n",
       "\t<li>6.54545454545455</li>\n",
       "\t<li>6.63636363636364</li>\n",
       "\t<li>6.72727272727273</li>\n",
       "\t<li>6.81818181818182</li>\n",
       "\t<li>6.90909090909091</li>\n",
       "\t<li>7</li>\n",
       "\t<li>7.09090909090909</li>\n",
       "\t<li>7.18181818181818</li>\n",
       "\t<li>7.27272727272727</li>\n",
       "\t<li>7.36363636363636</li>\n",
       "\t<li>7.45454545454546</li>\n",
       "\t<li>7.54545454545455</li>\n",
       "\t<li>7.63636363636364</li>\n",
       "\t<li>7.72727272727273</li>\n",
       "\t<li>7.81818181818182</li>\n",
       "\t<li>7.90909090909091</li>\n",
       "\t<li>8</li>\n",
       "\t<li>8.09090909090909</li>\n",
       "\t<li>8.18181818181818</li>\n",
       "\t<li>8.27272727272727</li>\n",
       "\t<li>8.36363636363636</li>\n",
       "\t<li>8.45454545454546</li>\n",
       "\t<li>8.54545454545455</li>\n",
       "\t<li>8.63636363636364</li>\n",
       "\t<li>8.72727272727273</li>\n",
       "\t<li>8.81818181818182</li>\n",
       "\t<li>8.90909090909091</li>\n",
       "\t<li>9</li>\n",
       "\t<li>9.09090909090909</li>\n",
       "\t<li>9.18181818181818</li>\n",
       "\t<li>9.27272727272727</li>\n",
       "\t<li>9.36363636363636</li>\n",
       "\t<li>9.45454545454546</li>\n",
       "\t<li>9.54545454545454</li>\n",
       "\t<li>9.63636363636364</li>\n",
       "\t<li>9.72727272727273</li>\n",
       "\t<li>9.81818181818182</li>\n",
       "\t<li>9.90909090909091</li>\n",
       "\t<li>10</li>\n",
       "</ol>\n"
      ],
      "text/latex": [
       "\\begin{enumerate*}\n",
       "\\item 1\n",
       "\\item 1.09090909090909\n",
       "\\item 1.18181818181818\n",
       "\\item 1.27272727272727\n",
       "\\item 1.36363636363636\n",
       "\\item 1.45454545454545\n",
       "\\item 1.54545454545455\n",
       "\\item 1.63636363636364\n",
       "\\item 1.72727272727273\n",
       "\\item 1.81818181818182\n",
       "\\item 1.90909090909091\n",
       "\\item 2\n",
       "\\item 2.09090909090909\n",
       "\\item 2.18181818181818\n",
       "\\item 2.27272727272727\n",
       "\\item 2.36363636363636\n",
       "\\item 2.45454545454545\n",
       "\\item 2.54545454545455\n",
       "\\item 2.63636363636364\n",
       "\\item 2.72727272727273\n",
       "\\item 2.81818181818182\n",
       "\\item 2.90909090909091\n",
       "\\item 3\n",
       "\\item 3.09090909090909\n",
       "\\item 3.18181818181818\n",
       "\\item 3.27272727272727\n",
       "\\item 3.36363636363636\n",
       "\\item 3.45454545454545\n",
       "\\item 3.54545454545455\n",
       "\\item 3.63636363636364\n",
       "\\item 3.72727272727273\n",
       "\\item 3.81818181818182\n",
       "\\item 3.90909090909091\n",
       "\\item 4\n",
       "\\item 4.09090909090909\n",
       "\\item 4.18181818181818\n",
       "\\item 4.27272727272727\n",
       "\\item 4.36363636363636\n",
       "\\item 4.45454545454546\n",
       "\\item 4.54545454545454\n",
       "\\item 4.63636363636364\n",
       "\\item 4.72727272727273\n",
       "\\item 4.81818181818182\n",
       "\\item 4.90909090909091\n",
       "\\item 5\n",
       "\\item 5.09090909090909\n",
       "\\item 5.18181818181818\n",
       "\\item 5.27272727272727\n",
       "\\item 5.36363636363636\n",
       "\\item 5.45454545454546\n",
       "\\item 5.54545454545455\n",
       "\\item 5.63636363636364\n",
       "\\item 5.72727272727273\n",
       "\\item 5.81818181818182\n",
       "\\item 5.90909090909091\n",
       "\\item 6\n",
       "\\item 6.09090909090909\n",
       "\\item 6.18181818181818\n",
       "\\item 6.27272727272727\n",
       "\\item 6.36363636363636\n",
       "\\item 6.45454545454546\n",
       "\\item 6.54545454545455\n",
       "\\item 6.63636363636364\n",
       "\\item 6.72727272727273\n",
       "\\item 6.81818181818182\n",
       "\\item 6.90909090909091\n",
       "\\item 7\n",
       "\\item 7.09090909090909\n",
       "\\item 7.18181818181818\n",
       "\\item 7.27272727272727\n",
       "\\item 7.36363636363636\n",
       "\\item 7.45454545454546\n",
       "\\item 7.54545454545455\n",
       "\\item 7.63636363636364\n",
       "\\item 7.72727272727273\n",
       "\\item 7.81818181818182\n",
       "\\item 7.90909090909091\n",
       "\\item 8\n",
       "\\item 8.09090909090909\n",
       "\\item 8.18181818181818\n",
       "\\item 8.27272727272727\n",
       "\\item 8.36363636363636\n",
       "\\item 8.45454545454546\n",
       "\\item 8.54545454545455\n",
       "\\item 8.63636363636364\n",
       "\\item 8.72727272727273\n",
       "\\item 8.81818181818182\n",
       "\\item 8.90909090909091\n",
       "\\item 9\n",
       "\\item 9.09090909090909\n",
       "\\item 9.18181818181818\n",
       "\\item 9.27272727272727\n",
       "\\item 9.36363636363636\n",
       "\\item 9.45454545454546\n",
       "\\item 9.54545454545454\n",
       "\\item 9.63636363636364\n",
       "\\item 9.72727272727273\n",
       "\\item 9.81818181818182\n",
       "\\item 9.90909090909091\n",
       "\\item 10\n",
       "\\end{enumerate*}\n"
      ],
      "text/markdown": [
       "1. 1\n",
       "2. 1.09090909090909\n",
       "3. 1.18181818181818\n",
       "4. 1.27272727272727\n",
       "5. 1.36363636363636\n",
       "6. 1.45454545454545\n",
       "7. 1.54545454545455\n",
       "8. 1.63636363636364\n",
       "9. 1.72727272727273\n",
       "10. 1.81818181818182\n",
       "11. 1.90909090909091\n",
       "12. 2\n",
       "13. 2.09090909090909\n",
       "14. 2.18181818181818\n",
       "15. 2.27272727272727\n",
       "16. 2.36363636363636\n",
       "17. 2.45454545454545\n",
       "18. 2.54545454545455\n",
       "19. 2.63636363636364\n",
       "20. 2.72727272727273\n",
       "21. 2.81818181818182\n",
       "22. 2.90909090909091\n",
       "23. 3\n",
       "24. 3.09090909090909\n",
       "25. 3.18181818181818\n",
       "26. 3.27272727272727\n",
       "27. 3.36363636363636\n",
       "28. 3.45454545454545\n",
       "29. 3.54545454545455\n",
       "30. 3.63636363636364\n",
       "31. 3.72727272727273\n",
       "32. 3.81818181818182\n",
       "33. 3.90909090909091\n",
       "34. 4\n",
       "35. 4.09090909090909\n",
       "36. 4.18181818181818\n",
       "37. 4.27272727272727\n",
       "38. 4.36363636363636\n",
       "39. 4.45454545454546\n",
       "40. 4.54545454545454\n",
       "41. 4.63636363636364\n",
       "42. 4.72727272727273\n",
       "43. 4.81818181818182\n",
       "44. 4.90909090909091\n",
       "45. 5\n",
       "46. 5.09090909090909\n",
       "47. 5.18181818181818\n",
       "48. 5.27272727272727\n",
       "49. 5.36363636363636\n",
       "50. 5.45454545454546\n",
       "51. 5.54545454545455\n",
       "52. 5.63636363636364\n",
       "53. 5.72727272727273\n",
       "54. 5.81818181818182\n",
       "55. 5.90909090909091\n",
       "56. 6\n",
       "57. 6.09090909090909\n",
       "58. 6.18181818181818\n",
       "59. 6.27272727272727\n",
       "60. 6.36363636363636\n",
       "61. 6.45454545454546\n",
       "62. 6.54545454545455\n",
       "63. 6.63636363636364\n",
       "64. 6.72727272727273\n",
       "65. 6.81818181818182\n",
       "66. 6.90909090909091\n",
       "67. 7\n",
       "68. 7.09090909090909\n",
       "69. 7.18181818181818\n",
       "70. 7.27272727272727\n",
       "71. 7.36363636363636\n",
       "72. 7.45454545454546\n",
       "73. 7.54545454545455\n",
       "74. 7.63636363636364\n",
       "75. 7.72727272727273\n",
       "76. 7.81818181818182\n",
       "77. 7.90909090909091\n",
       "78. 8\n",
       "79. 8.09090909090909\n",
       "80. 8.18181818181818\n",
       "81. 8.27272727272727\n",
       "82. 8.36363636363636\n",
       "83. 8.45454545454546\n",
       "84. 8.54545454545455\n",
       "85. 8.63636363636364\n",
       "86. 8.72727272727273\n",
       "87. 8.81818181818182\n",
       "88. 8.90909090909091\n",
       "89. 9\n",
       "90. 9.09090909090909\n",
       "91. 9.18181818181818\n",
       "92. 9.27272727272727\n",
       "93. 9.36363636363636\n",
       "94. 9.45454545454546\n",
       "95. 9.54545454545454\n",
       "96. 9.63636363636364\n",
       "97. 9.72727272727273\n",
       "98. 9.81818181818182\n",
       "99. 9.90909090909091\n",
       "100. 10\n",
       "\n",
       "\n"
      ],
      "text/plain": [
       "  [1]  1.000000  1.090909  1.181818  1.272727  1.363636  1.454545  1.545455\n",
       "  [8]  1.636364  1.727273  1.818182  1.909091  2.000000  2.090909  2.181818\n",
       " [15]  2.272727  2.363636  2.454545  2.545455  2.636364  2.727273  2.818182\n",
       " [22]  2.909091  3.000000  3.090909  3.181818  3.272727  3.363636  3.454545\n",
       " [29]  3.545455  3.636364  3.727273  3.818182  3.909091  4.000000  4.090909\n",
       " [36]  4.181818  4.272727  4.363636  4.454545  4.545455  4.636364  4.727273\n",
       " [43]  4.818182  4.909091  5.000000  5.090909  5.181818  5.272727  5.363636\n",
       " [50]  5.454545  5.545455  5.636364  5.727273  5.818182  5.909091  6.000000\n",
       " [57]  6.090909  6.181818  6.272727  6.363636  6.454545  6.545455  6.636364\n",
       " [64]  6.727273  6.818182  6.909091  7.000000  7.090909  7.181818  7.272727\n",
       " [71]  7.363636  7.454545  7.545455  7.636364  7.727273  7.818182  7.909091\n",
       " [78]  8.000000  8.090909  8.181818  8.272727  8.363636  8.454545  8.545455\n",
       " [85]  8.636364  8.727273  8.818182  8.909091  9.000000  9.090909  9.181818\n",
       " [92]  9.272727  9.363636  9.454545  9.545455  9.636364  9.727273  9.818182\n",
       " [99]  9.909091 10.000000"
      ]
     },
     "metadata": {},
     "output_type": "display_data"
    }
   ],
   "source": [
    "seq(from = 3, to = 8, by = 2)\n",
    "seq(from = 5, to = 20, length.out = 4)\n",
    "seq(1,10,length.out = 100)"
   ]
  },
  {
   "cell_type": "markdown",
   "metadata": {},
   "source": [
    "<div id=\"sec_whatisR\" style=\"direction:rtl;line-height:300%;\">\n",
    "\t<font face=\"XB Niloofar\" size=5>\n",
    "        <br>\n",
    "        -  برای ایجاد مقادیر تکراری از تابع <code>()rep</code> استفاده می‌کنیم.\n",
    "    </font>\n",
    "</div>"
   ]
  },
  {
   "cell_type": "code",
   "execution_count": 24,
   "metadata": {},
   "outputs": [
    {
     "data": {
      "text/html": [
       "<ol class=list-inline>\n",
       "\t<li>2</li>\n",
       "\t<li>2</li>\n",
       "\t<li>2</li>\n",
       "\t<li>2</li>\n",
       "</ol>\n"
      ],
      "text/latex": [
       "\\begin{enumerate*}\n",
       "\\item 2\n",
       "\\item 2\n",
       "\\item 2\n",
       "\\item 2\n",
       "\\end{enumerate*}\n"
      ],
      "text/markdown": [
       "1. 2\n",
       "2. 2\n",
       "3. 2\n",
       "4. 2\n",
       "\n",
       "\n"
      ],
      "text/plain": [
       "[1] 2 2 2 2"
      ]
     },
     "metadata": {},
     "output_type": "display_data"
    }
   ],
   "source": [
    "rep(2,times = 4)"
   ]
  },
  {
   "cell_type": "code",
   "execution_count": 25,
   "metadata": {},
   "outputs": [
    {
     "data": {
      "text/html": [
       "<ol class=list-inline>\n",
       "\t<li>1</li>\n",
       "\t<li>2</li>\n",
       "\t<li>3</li>\n",
       "\t<li>4</li>\n",
       "\t<li>5</li>\n",
       "\t<li>6</li>\n",
       "\t<li>7</li>\n",
       "\t<li>8</li>\n",
       "\t<li>9</li>\n",
       "\t<li>10</li>\n",
       "\t<li>11</li>\n",
       "\t<li>12</li>\n",
       "\t<li>13</li>\n",
       "\t<li>14</li>\n",
       "\t<li>15</li>\n",
       "</ol>\n"
      ],
      "text/latex": [
       "\\begin{enumerate*}\n",
       "\\item 1\n",
       "\\item 2\n",
       "\\item 3\n",
       "\\item 4\n",
       "\\item 5\n",
       "\\item 6\n",
       "\\item 7\n",
       "\\item 8\n",
       "\\item 9\n",
       "\\item 10\n",
       "\\item 11\n",
       "\\item 12\n",
       "\\item 13\n",
       "\\item 14\n",
       "\\item 15\n",
       "\\end{enumerate*}\n"
      ],
      "text/markdown": [
       "1. 1\n",
       "2. 2\n",
       "3. 3\n",
       "4. 4\n",
       "5. 5\n",
       "6. 6\n",
       "7. 7\n",
       "8. 8\n",
       "9. 9\n",
       "10. 10\n",
       "11. 11\n",
       "12. 12\n",
       "13. 13\n",
       "14. 14\n",
       "15. 15\n",
       "\n",
       "\n"
      ],
      "text/plain": [
       " [1]  1  2  3  4  5  6  7  8  9 10 11 12 13 14 15"
      ]
     },
     "metadata": {},
     "output_type": "display_data"
    }
   ],
   "source": [
    "c(1:5,seq(6,10),(1:5)+10)"
   ]
  },
  {
   "cell_type": "markdown",
   "metadata": {},
   "source": [
    "<br>\n",
    "<div id=\"sec_statFunc\" style=\"direction:rtl;line-height:300%;\">\n",
    "\t<font face=\"XB Niloofar\" size=5>\n",
    "\t\t<font color=#006FDE size=6>\n",
    "        توابع آماری\n",
    "        </font>\n",
    "\t\t<p></p>\n",
    "\t\t<hr>\n",
    "        به طور پیش‌فرض در پکیج stats در R بسیاری از توابع کارآمد آماری موجود است که در زیر به بخشی از آن‌ها می‌پردازیم.\n",
    "        <br><br>\n",
    "        توابع مقدماتی آماری :\n",
    "</font>\n",
    "</div>"
   ]
  },
  {
   "cell_type": "code",
   "execution_count": 9,
   "metadata": {},
   "outputs": [
    {
     "data": {
      "text/html": [
       "<ol class=list-inline>\n",
       "\t<li>1</li>\n",
       "\t<li>2</li>\n",
       "\t<li>3</li>\n",
       "\t<li>4</li>\n",
       "\t<li>5</li>\n",
       "\t<li>6</li>\n",
       "\t<li>7</li>\n",
       "\t<li>8</li>\n",
       "\t<li>9</li>\n",
       "\t<li>10</li>\n",
       "\t<li>11</li>\n",
       "\t<li>12</li>\n",
       "\t<li>13</li>\n",
       "\t<li>14</li>\n",
       "\t<li>15</li>\n",
       "\t<li>16</li>\n",
       "\t<li>17</li>\n",
       "\t<li>18</li>\n",
       "\t<li>19</li>\n",
       "\t<li>20</li>\n",
       "\t<li>21</li>\n",
       "\t<li>22</li>\n",
       "\t<li>23</li>\n",
       "\t<li>24</li>\n",
       "\t<li>25</li>\n",
       "\t<li>26</li>\n",
       "\t<li>27</li>\n",
       "\t<li>28</li>\n",
       "\t<li>29</li>\n",
       "\t<li>30</li>\n",
       "\t<li>31</li>\n",
       "\t<li>32</li>\n",
       "\t<li>33</li>\n",
       "\t<li>34</li>\n",
       "\t<li>35</li>\n",
       "\t<li>36</li>\n",
       "\t<li>37</li>\n",
       "\t<li>38</li>\n",
       "\t<li>39</li>\n",
       "\t<li>40</li>\n",
       "\t<li>41</li>\n",
       "\t<li>42</li>\n",
       "\t<li>43</li>\n",
       "\t<li>44</li>\n",
       "\t<li>45</li>\n",
       "\t<li>46</li>\n",
       "\t<li>47</li>\n",
       "\t<li>48</li>\n",
       "\t<li>49</li>\n",
       "\t<li>50</li>\n",
       "\t<li>51</li>\n",
       "\t<li>52</li>\n",
       "\t<li>53</li>\n",
       "\t<li>54</li>\n",
       "\t<li>55</li>\n",
       "\t<li>56</li>\n",
       "\t<li>57</li>\n",
       "\t<li>58</li>\n",
       "\t<li>59</li>\n",
       "\t<li>60</li>\n",
       "\t<li>61</li>\n",
       "\t<li>62</li>\n",
       "\t<li>63</li>\n",
       "\t<li>64</li>\n",
       "\t<li>65</li>\n",
       "\t<li>66</li>\n",
       "\t<li>67</li>\n",
       "\t<li>68</li>\n",
       "\t<li>69</li>\n",
       "\t<li>70</li>\n",
       "\t<li>71</li>\n",
       "\t<li>72</li>\n",
       "\t<li>73</li>\n",
       "\t<li>74</li>\n",
       "\t<li>75</li>\n",
       "\t<li>76</li>\n",
       "\t<li>77</li>\n",
       "\t<li>78</li>\n",
       "\t<li>79</li>\n",
       "\t<li>80</li>\n",
       "\t<li>81</li>\n",
       "\t<li>82</li>\n",
       "\t<li>83</li>\n",
       "\t<li>84</li>\n",
       "\t<li>85</li>\n",
       "\t<li>86</li>\n",
       "\t<li>87</li>\n",
       "\t<li>88</li>\n",
       "\t<li>89</li>\n",
       "\t<li>90</li>\n",
       "\t<li>91</li>\n",
       "\t<li>92</li>\n",
       "\t<li>93</li>\n",
       "\t<li>94</li>\n",
       "\t<li>95</li>\n",
       "\t<li>96</li>\n",
       "\t<li>97</li>\n",
       "\t<li>98</li>\n",
       "\t<li>99</li>\n",
       "\t<li>100</li>\n",
       "</ol>\n"
      ],
      "text/latex": [
       "\\begin{enumerate*}\n",
       "\\item 1\n",
       "\\item 2\n",
       "\\item 3\n",
       "\\item 4\n",
       "\\item 5\n",
       "\\item 6\n",
       "\\item 7\n",
       "\\item 8\n",
       "\\item 9\n",
       "\\item 10\n",
       "\\item 11\n",
       "\\item 12\n",
       "\\item 13\n",
       "\\item 14\n",
       "\\item 15\n",
       "\\item 16\n",
       "\\item 17\n",
       "\\item 18\n",
       "\\item 19\n",
       "\\item 20\n",
       "\\item 21\n",
       "\\item 22\n",
       "\\item 23\n",
       "\\item 24\n",
       "\\item 25\n",
       "\\item 26\n",
       "\\item 27\n",
       "\\item 28\n",
       "\\item 29\n",
       "\\item 30\n",
       "\\item 31\n",
       "\\item 32\n",
       "\\item 33\n",
       "\\item 34\n",
       "\\item 35\n",
       "\\item 36\n",
       "\\item 37\n",
       "\\item 38\n",
       "\\item 39\n",
       "\\item 40\n",
       "\\item 41\n",
       "\\item 42\n",
       "\\item 43\n",
       "\\item 44\n",
       "\\item 45\n",
       "\\item 46\n",
       "\\item 47\n",
       "\\item 48\n",
       "\\item 49\n",
       "\\item 50\n",
       "\\item 51\n",
       "\\item 52\n",
       "\\item 53\n",
       "\\item 54\n",
       "\\item 55\n",
       "\\item 56\n",
       "\\item 57\n",
       "\\item 58\n",
       "\\item 59\n",
       "\\item 60\n",
       "\\item 61\n",
       "\\item 62\n",
       "\\item 63\n",
       "\\item 64\n",
       "\\item 65\n",
       "\\item 66\n",
       "\\item 67\n",
       "\\item 68\n",
       "\\item 69\n",
       "\\item 70\n",
       "\\item 71\n",
       "\\item 72\n",
       "\\item 73\n",
       "\\item 74\n",
       "\\item 75\n",
       "\\item 76\n",
       "\\item 77\n",
       "\\item 78\n",
       "\\item 79\n",
       "\\item 80\n",
       "\\item 81\n",
       "\\item 82\n",
       "\\item 83\n",
       "\\item 84\n",
       "\\item 85\n",
       "\\item 86\n",
       "\\item 87\n",
       "\\item 88\n",
       "\\item 89\n",
       "\\item 90\n",
       "\\item 91\n",
       "\\item 92\n",
       "\\item 93\n",
       "\\item 94\n",
       "\\item 95\n",
       "\\item 96\n",
       "\\item 97\n",
       "\\item 98\n",
       "\\item 99\n",
       "\\item 100\n",
       "\\end{enumerate*}\n"
      ],
      "text/markdown": [
       "1. 1\n",
       "2. 2\n",
       "3. 3\n",
       "4. 4\n",
       "5. 5\n",
       "6. 6\n",
       "7. 7\n",
       "8. 8\n",
       "9. 9\n",
       "10. 10\n",
       "11. 11\n",
       "12. 12\n",
       "13. 13\n",
       "14. 14\n",
       "15. 15\n",
       "16. 16\n",
       "17. 17\n",
       "18. 18\n",
       "19. 19\n",
       "20. 20\n",
       "21. 21\n",
       "22. 22\n",
       "23. 23\n",
       "24. 24\n",
       "25. 25\n",
       "26. 26\n",
       "27. 27\n",
       "28. 28\n",
       "29. 29\n",
       "30. 30\n",
       "31. 31\n",
       "32. 32\n",
       "33. 33\n",
       "34. 34\n",
       "35. 35\n",
       "36. 36\n",
       "37. 37\n",
       "38. 38\n",
       "39. 39\n",
       "40. 40\n",
       "41. 41\n",
       "42. 42\n",
       "43. 43\n",
       "44. 44\n",
       "45. 45\n",
       "46. 46\n",
       "47. 47\n",
       "48. 48\n",
       "49. 49\n",
       "50. 50\n",
       "51. 51\n",
       "52. 52\n",
       "53. 53\n",
       "54. 54\n",
       "55. 55\n",
       "56. 56\n",
       "57. 57\n",
       "58. 58\n",
       "59. 59\n",
       "60. 60\n",
       "61. 61\n",
       "62. 62\n",
       "63. 63\n",
       "64. 64\n",
       "65. 65\n",
       "66. 66\n",
       "67. 67\n",
       "68. 68\n",
       "69. 69\n",
       "70. 70\n",
       "71. 71\n",
       "72. 72\n",
       "73. 73\n",
       "74. 74\n",
       "75. 75\n",
       "76. 76\n",
       "77. 77\n",
       "78. 78\n",
       "79. 79\n",
       "80. 80\n",
       "81. 81\n",
       "82. 82\n",
       "83. 83\n",
       "84. 84\n",
       "85. 85\n",
       "86. 86\n",
       "87. 87\n",
       "88. 88\n",
       "89. 89\n",
       "90. 90\n",
       "91. 91\n",
       "92. 92\n",
       "93. 93\n",
       "94. 94\n",
       "95. 95\n",
       "96. 96\n",
       "97. 97\n",
       "98. 98\n",
       "99. 99\n",
       "100. 100\n",
       "\n",
       "\n"
      ],
      "text/plain": [
       "  [1]   1   2   3   4   5   6   7   8   9  10  11  12  13  14  15  16  17  18\n",
       " [19]  19  20  21  22  23  24  25  26  27  28  29  30  31  32  33  34  35  36\n",
       " [37]  37  38  39  40  41  42  43  44  45  46  47  48  49  50  51  52  53  54\n",
       " [55]  55  56  57  58  59  60  61  62  63  64  65  66  67  68  69  70  71  72\n",
       " [73]  73  74  75  76  77  78  79  80  81  82  83  84  85  86  87  88  89  90\n",
       " [91]  91  92  93  94  95  96  97  98  99 100"
      ]
     },
     "metadata": {},
     "output_type": "display_data"
    },
    {
     "name": "stdout",
     "output_type": "stream",
     "text": [
      "[1] \"Mean :\"\n"
     ]
    },
    {
     "data": {
      "text/html": [
       "50.5"
      ],
      "text/latex": [
       "50.5"
      ],
      "text/markdown": [
       "50.5"
      ],
      "text/plain": [
       "[1] 50.5"
      ]
     },
     "metadata": {},
     "output_type": "display_data"
    },
    {
     "name": "stdout",
     "output_type": "stream",
     "text": [
      "[1] \"Standard Deviation :\"\n"
     ]
    },
    {
     "data": {
      "text/html": [
       "29.011491975882"
      ],
      "text/latex": [
       "29.011491975882"
      ],
      "text/markdown": [
       "29.011491975882"
      ],
      "text/plain": [
       "[1] 29.01149"
      ]
     },
     "metadata": {},
     "output_type": "display_data"
    },
    {
     "name": "stdout",
     "output_type": "stream",
     "text": [
      "[1] \"Variance :\"\n"
     ]
    },
    {
     "data": {
      "text/html": [
       "841.666666666667"
      ],
      "text/latex": [
       "841.666666666667"
      ],
      "text/markdown": [
       "841.666666666667"
      ],
      "text/plain": [
       "[1] 841.6667"
      ]
     },
     "metadata": {},
     "output_type": "display_data"
    },
    {
     "name": "stdout",
     "output_type": "stream",
     "text": [
      "[1] \"Min :\"\n"
     ]
    },
    {
     "data": {
      "text/html": [
       "1"
      ],
      "text/latex": [
       "1"
      ],
      "text/markdown": [
       "1"
      ],
      "text/plain": [
       "[1] 1"
      ]
     },
     "metadata": {},
     "output_type": "display_data"
    },
    {
     "name": "stdout",
     "output_type": "stream",
     "text": [
      "[1] \"Max :\"\n"
     ]
    },
    {
     "data": {
      "text/html": [
       "100"
      ],
      "text/latex": [
       "100"
      ],
      "text/markdown": [
       "100"
      ],
      "text/plain": [
       "[1] 100"
      ]
     },
     "metadata": {},
     "output_type": "display_data"
    },
    {
     "name": "stdout",
     "output_type": "stream",
     "text": [
      "[1] \"Median :\"\n"
     ]
    },
    {
     "data": {
      "text/html": [
       "50.5"
      ],
      "text/latex": [
       "50.5"
      ],
      "text/markdown": [
       "50.5"
      ],
      "text/plain": [
       "[1] 50.5"
      ]
     },
     "metadata": {},
     "output_type": "display_data"
    }
   ],
   "source": [
    "u <- c(1:100)\n",
    "u\n",
    "\n",
    "print(\"Mean :\")\n",
    "mean(u)\n",
    "\n",
    "print(\"Standard Deviation :\")\n",
    "sd(u)\n",
    "\n",
    "print(\"Variance :\")\n",
    "var(u)\n",
    "\n",
    "print(\"Min :\")\n",
    "min(u)\n",
    "\n",
    "print(\"Max :\")\n",
    "max(u)\n",
    "\n",
    "print(\"Median :\")\n",
    "median(u)\n"
   ]
  },
  {
   "cell_type": "markdown",
   "metadata": {},
   "source": [
    "<div id=\"sec_whatisR\" style=\"direction:rtl;line-height:300%;\">\n",
    "\t<font face=\"XB Niloofar\" size=5>\n",
    "        <br>\n",
    "        و توابع توزیع‌های احتمالاتی :\n",
    "    </font>\n",
    "</div>"
   ]
  },
  {
   "cell_type": "code",
   "execution_count": 12,
   "metadata": {},
   "outputs": [
    {
     "data": {
      "text/html": [
       "0.0126464521496635"
      ],
      "text/latex": [
       "0.0126464521496635"
      ],
      "text/markdown": [
       "0.0126464521496635"
      ],
      "text/plain": [
       "[1] 0.01264645"
      ]
     },
     "metadata": {},
     "output_type": "display_data"
    },
    {
     "data": {
      "image/png": "[encoded data removed]",
      "text/plain": [
       "plot without title"
      ]
     },
     "metadata": {
      "image/png": {
       "height": 420,
       "width": 420
      },
      "text/plain": {
       "height": 420,
       "width": 420
      }
     },
     "output_type": "display_data"
    }
   ],
   "source": [
    "## For a random sample of normal distribution\n",
    "n <- 1000\n",
    "sample <- rnorm(n = n, mean = 0, sd = 1)\n",
    "sum(sample/n)\n",
    "##For other distributions:\n",
    "## Use    runif    for uniform sample\n",
    "## Use    rbinom   for binomial sample\n",
    "## ...\n",
    "sample = sort(sample)\n",
    "plot(sample)"
   ]
  },
  {
   "cell_type": "code",
   "execution_count": 55,
   "metadata": {},
   "outputs": [
    {
     "data": {
      "image/png": "[encoded data removed]",
      "text/plain": [
       "plot without title"
      ]
     },
     "metadata": {
      "image/png": {
       "height": 420,
       "width": 420
      },
      "text/plain": {
       "height": 420,
       "width": 420
      }
     },
     "output_type": "display_data"
    }
   ],
   "source": [
    "# Display the Student's t distributions with various\n",
    "# degrees of freedom and compare to the normal distribution\n",
    "\n",
    "x <- seq(-4, 4, length=100)\n",
    "hx <- dnorm(x)\n",
    "plot(x, hx, type = 'l')"
   ]
  },
  {
   "cell_type": "code",
   "execution_count": null,
   "metadata": {},
   "outputs": [],
   "source": []
  },
  {
   "cell_type": "markdown",
   "metadata": {},
   "source": [
    "<div id=\"sec_whatisR\" style=\"direction:rtl;line-height:300%;\">\n",
    "\t<font face=\"XB niloofar\" size=5>\n",
    "        <br>\n",
    "        علاوه بر تابع بالا ، <code>()dnorm</code> چگالی توزیع را و <code>()pnorm</code> تابع توزیع را بر می‌گردانند.\n",
    "    </font>\n",
    "</div>"
   ]
  },
  {
   "cell_type": "markdown",
   "metadata": {},
   "source": [
    "<br>\n",
    "<div id=\"sec_R_DSs\" style=\"direction:rtl;line-height:300%;\">\n",
    "\t<font face=\"XB niloofar\" size=5>\n",
    "\t\t<font color=#006FDE size=6>\n",
    "            داده‌ساختار‌ها در R\n",
    "        </font>\n",
    "\t\t<p></p>\n",
    "\t\t<hr>\n",
    "        <br>\n",
    "        <b>\n",
    "            بردار‌ها :\n",
    "        </b>\n",
    "        <br>\n",
    "        در مورد بردار‌ها بالاتر صحبت کردیم و در این بخش تنها به چند نکته تکمیلی می‌پردازیم :\n",
    "        <br>\n",
    "        - اضافه‌کردن داده به بردار :\n",
    "        <br>\n",
    "</font>\n",
    "</div>"
   ]
  },
  {
   "cell_type": "code",
   "execution_count": 28,
   "metadata": {},
   "outputs": [
    {
     "data": {
      "text/html": [
       "<ol class=list-inline>\n",
       "\t<li>1</li>\n",
       "\t<li>2</li>\n",
       "\t<li>3</li>\n",
       "\t<li>4</li>\n",
       "\t<li>5</li>\n",
       "\t<li>6</li>\n",
       "</ol>\n"
      ],
      "text/latex": [
       "\\begin{enumerate*}\n",
       "\\item 1\n",
       "\\item 2\n",
       "\\item 3\n",
       "\\item 4\n",
       "\\item 5\n",
       "\\item 6\n",
       "\\end{enumerate*}\n"
      ],
      "text/markdown": [
       "1. 1\n",
       "2. 2\n",
       "3. 3\n",
       "4. 4\n",
       "5. 5\n",
       "6. 6\n",
       "\n",
       "\n"
      ],
      "text/plain": [
       "[1] 1 2 3 4 5 6"
      ]
     },
     "metadata": {},
     "output_type": "display_data"
    },
    {
     "data": {
      "text/html": [
       "<ol class=list-inline>\n",
       "\t<li>1</li>\n",
       "\t<li>2</li>\n",
       "\t<li>3</li>\n",
       "\t<li>4</li>\n",
       "\t<li>5</li>\n",
       "\t<li>6</li>\n",
       "\t<li>10</li>\n",
       "\t<li>1</li>\n",
       "\t<li>2</li>\n",
       "\t<li>3</li>\n",
       "\t<li>4</li>\n",
       "\t<li>5</li>\n",
       "\t<li>6</li>\n",
       "</ol>\n"
      ],
      "text/latex": [
       "\\begin{enumerate*}\n",
       "\\item 1\n",
       "\\item 2\n",
       "\\item 3\n",
       "\\item 4\n",
       "\\item 5\n",
       "\\item 6\n",
       "\\item 10\n",
       "\\item 1\n",
       "\\item 2\n",
       "\\item 3\n",
       "\\item 4\n",
       "\\item 5\n",
       "\\item 6\n",
       "\\end{enumerate*}\n"
      ],
      "text/markdown": [
       "1. 1\n",
       "2. 2\n",
       "3. 3\n",
       "4. 4\n",
       "5. 5\n",
       "6. 6\n",
       "7. 10\n",
       "8. 1\n",
       "9. 2\n",
       "10. 3\n",
       "11. 4\n",
       "12. 5\n",
       "13. 6\n",
       "\n",
       "\n"
      ],
      "text/plain": [
       " [1]  1  2  3  4  5  6 10  1  2  3  4  5  6"
      ]
     },
     "metadata": {},
     "output_type": "display_data"
    },
    {
     "data": {
      "text/html": [
       "<ol class=list-inline>\n",
       "\t<li>1</li>\n",
       "\t<li>2</li>\n",
       "\t<li>8</li>\n",
       "\t<li>9</li>\n",
       "\t<li>10</li>\n",
       "\t<li>3</li>\n",
       "\t<li>4</li>\n",
       "\t<li>5</li>\n",
       "\t<li>6</li>\n",
       "</ol>\n"
      ],
      "text/latex": [
       "\\begin{enumerate*}\n",
       "\\item 1\n",
       "\\item 2\n",
       "\\item 8\n",
       "\\item 9\n",
       "\\item 10\n",
       "\\item 3\n",
       "\\item 4\n",
       "\\item 5\n",
       "\\item 6\n",
       "\\end{enumerate*}\n"
      ],
      "text/markdown": [
       "1. 1\n",
       "2. 2\n",
       "3. 8\n",
       "4. 9\n",
       "5. 10\n",
       "6. 3\n",
       "7. 4\n",
       "8. 5\n",
       "9. 6\n",
       "\n",
       "\n"
      ],
      "text/plain": [
       "[1]  1  2  8  9 10  3  4  5  6"
      ]
     },
     "metadata": {},
     "output_type": "display_data"
    }
   ],
   "source": [
    "vec <- 1:6\n",
    "vec\n",
    "\n",
    "newVec <- c(vec,10,vec)\n",
    "newVec\n",
    "\n",
    "## Inserting Data into a Vector\n",
    "append(vec,8:10, after = 2)"
   ]
  },
  {
   "cell_type": "markdown",
   "metadata": {},
   "source": [
    "<div id=\"sec_whatisR\" style=\"direction:rtl;line-height:300%;\">\n",
    "\t<font face=\"XB Niloofar\" size=5>\n",
    "        <br>\n",
    "        <b>\n",
    "            قانون بازیافت در R :\n",
    "        </b>\n",
    "        <br>\n",
    "        پیش‌تر گفتیم که در هنگام انجام اعمال محاسباتی در R بر روی بردار‌ها ، R عمل مورد نظر را بر روی تک‌تک اعضا‌ی دو بردار انجام می‌دهد.\n",
    "        <br>\n",
    "        حال اگر طول دو بردار برابر نباشد چه می‌شود ؟\n",
    "        <br><br>\n",
    "        در این مواقع R ، قانون بازیافت را بر روی بردار کوچک‌تر اعمال می‌کند. \n",
    "        <br>\n",
    "        یعنی دوباره از عضو اول بردار کوچک‌تر شروع می‌کند و به عنوان عضو بعدی از آن استفاده می‌کند.       \n",
    "</font>\n",
    "</div>"
   ]
  },
  {
   "cell_type": "code",
   "execution_count": 29,
   "metadata": {},
   "outputs": [
    {
     "data": {
      "text/html": [
       "<ol class=list-inline>\n",
       "\t<li>2</li>\n",
       "\t<li>4</li>\n",
       "\t<li>6</li>\n",
       "\t<li>5</li>\n",
       "\t<li>7</li>\n",
       "\t<li>9</li>\n",
       "</ol>\n"
      ],
      "text/latex": [
       "\\begin{enumerate*}\n",
       "\\item 2\n",
       "\\item 4\n",
       "\\item 6\n",
       "\\item 5\n",
       "\\item 7\n",
       "\\item 9\n",
       "\\end{enumerate*}\n"
      ],
      "text/markdown": [
       "1. 2\n",
       "2. 4\n",
       "3. 6\n",
       "4. 5\n",
       "5. 7\n",
       "6. 9\n",
       "\n",
       "\n"
      ],
      "text/plain": [
       "[1] 2 4 6 5 7 9"
      ]
     },
     "metadata": {},
     "output_type": "display_data"
    },
    {
     "name": "stderr",
     "output_type": "stream",
     "text": [
      "Warning message in c(1, 2, 3, 10, 20, 30) + 1:5:\n",
      "“longer object length is not a multiple of shorter object length”"
     ]
    },
    {
     "data": {
      "text/html": [
       "<ol class=list-inline>\n",
       "\t<li>2</li>\n",
       "\t<li>4</li>\n",
       "\t<li>6</li>\n",
       "\t<li>14</li>\n",
       "\t<li>25</li>\n",
       "\t<li>31</li>\n",
       "</ol>\n"
      ],
      "text/latex": [
       "\\begin{enumerate*}\n",
       "\\item 2\n",
       "\\item 4\n",
       "\\item 6\n",
       "\\item 14\n",
       "\\item 25\n",
       "\\item 31\n",
       "\\end{enumerate*}\n"
      ],
      "text/markdown": [
       "1. 2\n",
       "2. 4\n",
       "3. 6\n",
       "4. 14\n",
       "5. 25\n",
       "6. 31\n",
       "\n",
       "\n"
      ],
      "text/plain": [
       "[1]  2  4  6 14 25 31"
      ]
     },
     "metadata": {},
     "output_type": "display_data"
    }
   ],
   "source": [
    "1:6 + 1:3\n",
    "\n",
    "## 1 2 3 4 5 6\n",
    "##    +\n",
    "## 1 2 3 1 2 3\n",
    "\n",
    "c(1,2,3,10,20,30) + 1:5\n",
    "\n",
    "## 1 2 3 10 20 30\n",
    "##     +\n",
    "## 1 2 3  4  5  1"
   ]
  },
  {
   "cell_type": "markdown",
   "metadata": {},
   "source": [
    "<div id=\"sec_whatisR\" style=\"direction:rtl;line-height:300%;\">\n",
    "\t<font face=\"XB Niloofar\" size=5>\n",
    "        <br>\n",
    "        <b>\n",
    "            ماتریس‌ها\n",
    "        </b>\n",
    "        <br>\n",
    "        یکی از داده‌ساختار‌ های موجود در R ماتریس‌ها می‌باشند. \n",
    "</font>\n",
    "</div>"
   ]
  },
  {
   "cell_type": "code",
   "execution_count": 30,
   "metadata": {},
   "outputs": [
    {
     "data": {
      "text/html": [
       "<table>\n",
       "<tbody>\n",
       "\t<tr><td>1</td><td>3</td><td>5</td><td>7</td></tr>\n",
       "\t<tr><td>2</td><td>4</td><td>6</td><td>8</td></tr>\n",
       "</tbody>\n",
       "</table>\n"
      ],
      "text/latex": [
       "\\begin{tabular}{llll}\n",
       "\t 1 & 3 & 5 & 7\\\\\n",
       "\t 2 & 4 & 6 & 8\\\\\n",
       "\\end{tabular}\n"
      ],
      "text/markdown": [
       "\n",
       "| 1 | 3 | 5 | 7 |\n",
       "| 2 | 4 | 6 | 8 |\n",
       "\n"
      ],
      "text/plain": [
       "     [,1] [,2] [,3] [,4]\n",
       "[1,] 1    3    5    7   \n",
       "[2,] 2    4    6    8   "
      ]
     },
     "metadata": {},
     "output_type": "display_data"
    },
    {
     "data": {
      "text/html": [
       "<table>\n",
       "<tbody>\n",
       "\t<tr><td>1</td><td>2</td><td>3</td><td>4</td></tr>\n",
       "\t<tr><td>5</td><td>6</td><td>7</td><td>8</td></tr>\n",
       "</tbody>\n",
       "</table>\n"
      ],
      "text/latex": [
       "\\begin{tabular}{llll}\n",
       "\t 1 & 2 & 3 & 4\\\\\n",
       "\t 5 & 6 & 7 & 8\\\\\n",
       "\\end{tabular}\n"
      ],
      "text/markdown": [
       "\n",
       "| 1 | 2 | 3 | 4 |\n",
       "| 5 | 6 | 7 | 8 |\n",
       "\n"
      ],
      "text/plain": [
       "     [,1] [,2] [,3] [,4]\n",
       "[1,] 1    2    3    4   \n",
       "[2,] 5    6    7    8   "
      ]
     },
     "metadata": {},
     "output_type": "display_data"
    },
    {
     "data": {
      "text/html": [
       "<table>\n",
       "<tbody>\n",
       "\t<tr><td>1</td><td>5</td></tr>\n",
       "\t<tr><td>2</td><td>6</td></tr>\n",
       "\t<tr><td>3</td><td>7</td></tr>\n",
       "\t<tr><td>4</td><td>8</td></tr>\n",
       "</tbody>\n",
       "</table>\n"
      ],
      "text/latex": [
       "\\begin{tabular}{ll}\n",
       "\t 1 & 5\\\\\n",
       "\t 2 & 6\\\\\n",
       "\t 3 & 7\\\\\n",
       "\t 4 & 8\\\\\n",
       "\\end{tabular}\n"
      ],
      "text/markdown": [
       "\n",
       "| 1 | 5 |\n",
       "| 2 | 6 |\n",
       "| 3 | 7 |\n",
       "| 4 | 8 |\n",
       "\n"
      ],
      "text/plain": [
       "     [,1] [,2]\n",
       "[1,] 1    5   \n",
       "[2,] 2    6   \n",
       "[3,] 3    7   \n",
       "[4,] 4    8   "
      ]
     },
     "metadata": {},
     "output_type": "display_data"
    }
   ],
   "source": [
    "## Create a matrix using matrix() function\n",
    "\n",
    "# 2*4 matrix\n",
    "matrix(1:8, nrow = 2)\n",
    "\n",
    "#2*4 matrix, each row is filled first\n",
    "matrix(1:8,nrow = 2, byrow = T)\n",
    "\n",
    "# 4*2 matrix\n",
    "matrix(1:8, ncol = 2)\n"
   ]
  },
  {
   "cell_type": "code",
   "execution_count": 8,
   "metadata": {},
   "outputs": [
    {
     "data": {
      "text/html": [
       "<table>\n",
       "<caption>A matrix: 2 × 2 of type int</caption>\n",
       "<thead>\n",
       "\t<tr><th></th><th scope=col>col one</th><th scope=col>col two</th></tr>\n",
       "</thead>\n",
       "<tbody>\n",
       "\t<tr><th scope=row>row one</th><td>1</td><td>3</td></tr>\n",
       "\t<tr><th scope=row>row two</th><td>2</td><td>4</td></tr>\n",
       "</tbody>\n",
       "</table>\n"
      ],
      "text/latex": [
       "A matrix: 2 × 2 of type int\n",
       "\\begin{tabular}{r|ll}\n",
       "  & col one & col two\\\\\n",
       "\\hline\n",
       "\trow one & 1 & 3\\\\\n",
       "\trow two & 2 & 4\\\\\n",
       "\\end{tabular}\n"
      ],
      "text/markdown": [
       "\n",
       "A matrix: 2 × 2 of type int\n",
       "\n",
       "| <!--/--> | col one | col two |\n",
       "|---|---|---|\n",
       "| row one | 1 | 3 |\n",
       "| row two | 2 | 4 |\n",
       "\n"
      ],
      "text/plain": [
       "        col one col two\n",
       "row one 1       3      \n",
       "row two 2       4      "
      ]
     },
     "metadata": {},
     "output_type": "display_data"
    }
   ],
   "source": [
    "## Name columns and rows of a matrix\n",
    "m <- matrix(1:4,nrow = 2)\n",
    "colnames(m) <- c(\"col one\",\"col two\")\n",
    "rownames(m) <- c(\"row one\",\"row two\")\n",
    "m"
   ]
  },
  {
   "cell_type": "code",
   "execution_count": 32,
   "metadata": {},
   "outputs": [
    {
     "name": "stdout",
     "output_type": "stream",
     "text": [
      "col one col two \n",
      "      2       4 \n",
      "row one row two \n",
      "      3       4 \n",
      "[1] 4\n"
     ]
    }
   ],
   "source": [
    "## Calling elements\n",
    "print(m[2,])\n",
    "print(m[,2])\n",
    "print(m[2,2])\n"
   ]
  },
  {
   "cell_type": "code",
   "execution_count": 33,
   "metadata": {},
   "outputs": [
    {
     "name": "stdout",
     "output_type": "stream",
     "text": [
      "[1] \"Scalar Multiplication:\"\n"
     ]
    },
    {
     "data": {
      "text/html": [
       "<table>\n",
       "<thead><tr><th></th><th scope=col>col one</th><th scope=col>col two</th></tr></thead>\n",
       "<tbody>\n",
       "\t<tr><th scope=row>row one</th><td>2</td><td>6</td></tr>\n",
       "\t<tr><th scope=row>row two</th><td>4</td><td>8</td></tr>\n",
       "</tbody>\n",
       "</table>\n"
      ],
      "text/latex": [
       "\\begin{tabular}{r|ll}\n",
       "  & col one & col two\\\\\n",
       "\\hline\n",
       "\trow one & 2 & 6\\\\\n",
       "\trow two & 4 & 8\\\\\n",
       "\\end{tabular}\n"
      ],
      "text/markdown": [
       "\n",
       "| <!--/--> | col one | col two |\n",
       "|---|---|---|\n",
       "| row one | 2 | 6 |\n",
       "| row two | 4 | 8 |\n",
       "\n"
      ],
      "text/plain": [
       "        col one col two\n",
       "row one 2       6      \n",
       "row two 4       8      "
      ]
     },
     "metadata": {},
     "output_type": "display_data"
    },
    {
     "name": "stdout",
     "output_type": "stream",
     "text": [
      "[1] \"Element Wise Multiplication:\"\n"
     ]
    },
    {
     "data": {
      "text/html": [
       "<table>\n",
       "<thead><tr><th></th><th scope=col>col one</th><th scope=col>col two</th></tr></thead>\n",
       "<tbody>\n",
       "\t<tr><th scope=row>row one</th><td>1 </td><td> 9</td></tr>\n",
       "\t<tr><th scope=row>row two</th><td>4 </td><td>16</td></tr>\n",
       "</tbody>\n",
       "</table>\n"
      ],
      "text/latex": [
       "\\begin{tabular}{r|ll}\n",
       "  & col one & col two\\\\\n",
       "\\hline\n",
       "\trow one & 1  &  9\\\\\n",
       "\trow two & 4  & 16\\\\\n",
       "\\end{tabular}\n"
      ],
      "text/markdown": [
       "\n",
       "| <!--/--> | col one | col two |\n",
       "|---|---|---|\n",
       "| row one | 1  |  9 |\n",
       "| row two | 4  | 16 |\n",
       "\n"
      ],
      "text/plain": [
       "        col one col two\n",
       "row one 1        9     \n",
       "row two 4       16     "
      ]
     },
     "metadata": {},
     "output_type": "display_data"
    },
    {
     "name": "stdout",
     "output_type": "stream",
     "text": [
      "[1] \"Matrix Multiplication:\"\n"
     ]
    },
    {
     "data": {
      "text/html": [
       "<table>\n",
       "<thead><tr><th></th><th scope=col>col one</th><th scope=col>col two</th></tr></thead>\n",
       "<tbody>\n",
       "\t<tr><th scope=row>row one</th><td> 7</td><td>15</td></tr>\n",
       "\t<tr><th scope=row>row two</th><td>10</td><td>22</td></tr>\n",
       "</tbody>\n",
       "</table>\n"
      ],
      "text/latex": [
       "\\begin{tabular}{r|ll}\n",
       "  & col one & col two\\\\\n",
       "\\hline\n",
       "\trow one &  7 & 15\\\\\n",
       "\trow two & 10 & 22\\\\\n",
       "\\end{tabular}\n"
      ],
      "text/markdown": [
       "\n",
       "| <!--/--> | col one | col two |\n",
       "|---|---|---|\n",
       "| row one |  7 | 15 |\n",
       "| row two | 10 | 22 |\n",
       "\n"
      ],
      "text/plain": [
       "        col one col two\n",
       "row one  7      15     \n",
       "row two 10      22     "
      ]
     },
     "metadata": {},
     "output_type": "display_data"
    }
   ],
   "source": [
    "# Arithmatic on matrices\n",
    "print(\"Scalar Multiplication:\")\n",
    "m * 2\n",
    "print(\"Element Wise Multiplication:\")\n",
    "m * m\n",
    "print(\"Matrix Multiplication:\")\n",
    "m %*% m"
   ]
  },
  {
   "cell_type": "code",
   "execution_count": 9,
   "metadata": {},
   "outputs": [
    {
     "data": {
      "text/html": [
       "<table>\n",
       "<caption>A matrix: 2 × 2 of type int</caption>\n",
       "<thead>\n",
       "\t<tr><th></th><th scope=col>row one</th><th scope=col>row two</th></tr>\n",
       "</thead>\n",
       "<tbody>\n",
       "\t<tr><th scope=row>col one</th><td>1</td><td>2</td></tr>\n",
       "\t<tr><th scope=row>col two</th><td>3</td><td>4</td></tr>\n",
       "</tbody>\n",
       "</table>\n"
      ],
      "text/latex": [
       "A matrix: 2 × 2 of type int\n",
       "\\begin{tabular}{r|ll}\n",
       "  & row one & row two\\\\\n",
       "\\hline\n",
       "\tcol one & 1 & 2\\\\\n",
       "\tcol two & 3 & 4\\\\\n",
       "\\end{tabular}\n"
      ],
      "text/markdown": [
       "\n",
       "A matrix: 2 × 2 of type int\n",
       "\n",
       "| <!--/--> | row one | row two |\n",
       "|---|---|---|\n",
       "| col one | 1 | 2 |\n",
       "| col two | 3 | 4 |\n",
       "\n"
      ],
      "text/plain": [
       "        row one row two\n",
       "col one 1       2      \n",
       "col two 3       4      "
      ]
     },
     "metadata": {},
     "output_type": "display_data"
    }
   ],
   "source": [
    "t(m)"
   ]
  },
  {
   "cell_type": "markdown",
   "metadata": {},
   "source": [
    "<div id=\"sec_whatisR\" style=\"direction:rtl;line-height:300%;\">\n",
    "\t<font face=\"XB Niloofar\" size=5>\n",
    "        <br>\n",
    "        <b>\n",
    "Dataframes:\n",
    "        </b>\n",
    "        <br>\n",
    "        Dataframe مهم‌ترین و پراستفاده‌ترین داده‌ساختاری است که در R می‌باشد.\n",
    "        <br>\n",
    "        یک جدول که در آن هر ستون شامل مقادیر یک متغیر و هر سطر شامل مجموعه‌ای از مقادیر هر ستون می‌باشد.\n",
    "        \n",
    "</font>\n",
    "</div>"
   ]
  },
  {
   "cell_type": "code",
   "execution_count": 13,
   "metadata": {},
   "outputs": [
    {
     "data": {
      "text/html": [
       "<table>\n",
       "<caption>A data.frame: 5 × 3</caption>\n",
       "<thead>\n",
       "\t<tr><th scope=col>ID</th><th scope=col>Name</th><th scope=col>Grade</th></tr>\n",
       "\t<tr><th scope=col>&lt;int&gt;</th><th scope=col>&lt;fct&gt;</th><th scope=col>&lt;dbl&gt;</th></tr>\n",
       "</thead>\n",
       "<tbody>\n",
       "\t<tr><td>1</td><td>Ali    </td><td>20.0</td></tr>\n",
       "\t<tr><td>2</td><td>Reza   </td><td>16.0</td></tr>\n",
       "\t<tr><td>3</td><td>Kiarash</td><td>17.5</td></tr>\n",
       "\t<tr><td>4</td><td>Nima   </td><td>14.0</td></tr>\n",
       "\t<tr><td>5</td><td>Hossein</td><td>19.0</td></tr>\n",
       "</tbody>\n",
       "</table>\n"
      ],
      "text/latex": [
       "A data.frame: 5 × 3\n",
       "\\begin{tabular}{r|lll}\n",
       " ID & Name & Grade\\\\\n",
       " <int> & <fct> & <dbl>\\\\\n",
       "\\hline\n",
       "\t 1 & Ali     & 20.0\\\\\n",
       "\t 2 & Reza    & 16.0\\\\\n",
       "\t 3 & Kiarash & 17.5\\\\\n",
       "\t 4 & Nima    & 14.0\\\\\n",
       "\t 5 & Hossein & 19.0\\\\\n",
       "\\end{tabular}\n"
      ],
      "text/markdown": [
       "\n",
       "A data.frame: 5 × 3\n",
       "\n",
       "| ID &lt;int&gt; | Name &lt;fct&gt; | Grade &lt;dbl&gt; |\n",
       "|---|---|---|\n",
       "| 1 | Ali     | 20.0 |\n",
       "| 2 | Reza    | 16.0 |\n",
       "| 3 | Kiarash | 17.5 |\n",
       "| 4 | Nima    | 14.0 |\n",
       "| 5 | Hossein | 19.0 |\n",
       "\n"
      ],
      "text/plain": [
       "  ID Name    Grade\n",
       "1 1  Ali     20.0 \n",
       "2 2  Reza    16.0 \n",
       "3 3  Kiarash 17.5 \n",
       "4 4  Nima    14.0 \n",
       "5 5  Hossein 19.0 "
      ]
     },
     "metadata": {},
     "output_type": "display_data"
    }
   ],
   "source": [
    "## Create a dataframe with data.frame()\n",
    "df <- data.frame(\n",
    "    ID = 1:5,\n",
    "    Name = c(\"Ali\",\"Reza\",\"Kiarash\",\"Nima\",\"Hossein\"),\n",
    "    Grade = c(20,16,17.5,14,19))\n",
    "\n",
    "df"
   ]
  },
  {
   "cell_type": "code",
   "execution_count": 15,
   "metadata": {
    "scrolled": true
   },
   "outputs": [
    {
     "data": {
      "text/plain": [
       "       ID         Name       Grade     \n",
       " Min.   :1   Ali    :1   Min.   :14.0  \n",
       " 1st Qu.:2   Hossein:1   1st Qu.:16.0  \n",
       " Median :3   Kiarash:1   Median :17.5  \n",
       " Mean   :3   Nima   :1   Mean   :17.3  \n",
       " 3rd Qu.:4   Reza   :1   3rd Qu.:19.0  \n",
       " Max.   :5               Max.   :20.0  "
      ]
     },
     "metadata": {},
     "output_type": "display_data"
    }
   ],
   "source": [
    "## Summary of a dataframe\n",
    "summary(df)"
   ]
  },
  {
   "cell_type": "code",
   "execution_count": 14,
   "metadata": {},
   "outputs": [
    {
     "data": {
      "text/html": [
       "<ol class=list-inline>\n",
       "\t<li>Ali</li>\n",
       "\t<li>Reza</li>\n",
       "\t<li>Kiarash</li>\n",
       "\t<li>Nima</li>\n",
       "\t<li>Hossein</li>\n",
       "</ol>\n",
       "\n",
       "<details>\n",
       "\t<summary style=display:list-item;cursor:pointer>\n",
       "\t\t<strong>Levels</strong>:\n",
       "\t</summary>\n",
       "\t<ol class=list-inline>\n",
       "\t\t<li>'Ali'</li>\n",
       "\t\t<li>'Hossein'</li>\n",
       "\t\t<li>'Kiarash'</li>\n",
       "\t\t<li>'Nima'</li>\n",
       "\t\t<li>'Reza'</li>\n",
       "\t</ol>\n",
       "</details>"
      ],
      "text/latex": [
       "\\begin{enumerate*}\n",
       "\\item Ali\n",
       "\\item Reza\n",
       "\\item Kiarash\n",
       "\\item Nima\n",
       "\\item Hossein\n",
       "\\end{enumerate*}\n",
       "\n",
       "\\emph{Levels}: \\begin{enumerate*}\n",
       "\\item 'Ali'\n",
       "\\item 'Hossein'\n",
       "\\item 'Kiarash'\n",
       "\\item 'Nima'\n",
       "\\item 'Reza'\n",
       "\\end{enumerate*}\n"
      ],
      "text/markdown": [
       "1. Ali\n",
       "2. Reza\n",
       "3. Kiarash\n",
       "4. Nima\n",
       "5. Hossein\n",
       "\n",
       "\n",
       "\n",
       "**Levels**: 1. 'Ali'\n",
       "2. 'Hossein'\n",
       "3. 'Kiarash'\n",
       "4. 'Nima'\n",
       "5. 'Reza'\n",
       "\n",
       "\n"
      ],
      "text/plain": [
       "[1] Ali     Reza    Kiarash Nima    Hossein\n",
       "Levels: Ali Hossein Kiarash Nima Reza"
      ]
     },
     "metadata": {},
     "output_type": "display_data"
    }
   ],
   "source": [
    "##Selecting elements\n",
    "df$Name"
   ]
  },
  {
   "cell_type": "code",
   "execution_count": 16,
   "metadata": {},
   "outputs": [
    {
     "data": {
      "text/html": [
       "<table>\n",
       "<caption>A data.frame: 1 × 3</caption>\n",
       "<thead>\n",
       "\t<tr><th scope=col>ID</th><th scope=col>Name</th><th scope=col>Grade</th></tr>\n",
       "\t<tr><th scope=col>&lt;int&gt;</th><th scope=col>&lt;fct&gt;</th><th scope=col>&lt;dbl&gt;</th></tr>\n",
       "</thead>\n",
       "<tbody>\n",
       "\t<tr><td>1</td><td>Ali</td><td>20</td></tr>\n",
       "</tbody>\n",
       "</table>\n"
      ],
      "text/latex": [
       "A data.frame: 1 × 3\n",
       "\\begin{tabular}{r|lll}\n",
       " ID & Name & Grade\\\\\n",
       " <int> & <fct> & <dbl>\\\\\n",
       "\\hline\n",
       "\t 1 & Ali & 20\\\\\n",
       "\\end{tabular}\n"
      ],
      "text/markdown": [
       "\n",
       "A data.frame: 1 × 3\n",
       "\n",
       "| ID &lt;int&gt; | Name &lt;fct&gt; | Grade &lt;dbl&gt; |\n",
       "|---|---|---|\n",
       "| 1 | Ali | 20 |\n",
       "\n"
      ],
      "text/plain": [
       "  ID Name Grade\n",
       "1 1  Ali  20   "
      ]
     },
     "metadata": {},
     "output_type": "display_data"
    }
   ],
   "source": [
    "df[1,]"
   ]
  },
  {
   "cell_type": "code",
   "execution_count": 18,
   "metadata": {},
   "outputs": [
    {
     "data": {
      "text/html": [
       "<ol class=list-inline>\n",
       "\t<li>1</li>\n",
       "\t<li>2</li>\n",
       "\t<li>3</li>\n",
       "\t<li>4</li>\n",
       "\t<li>5</li>\n",
       "</ol>\n"
      ],
      "text/latex": [
       "\\begin{enumerate*}\n",
       "\\item 1\n",
       "\\item 2\n",
       "\\item 3\n",
       "\\item 4\n",
       "\\item 5\n",
       "\\end{enumerate*}\n"
      ],
      "text/markdown": [
       "1. 1\n",
       "2. 2\n",
       "3. 3\n",
       "4. 4\n",
       "5. 5\n",
       "\n",
       "\n"
      ],
      "text/plain": [
       "[1] 1 2 3 4 5"
      ]
     },
     "metadata": {},
     "output_type": "display_data"
    }
   ],
   "source": [
    "df[,1]"
   ]
  },
  {
   "cell_type": "code",
   "execution_count": 39,
   "metadata": {},
   "outputs": [
    {
     "data": {
      "text/html": [
       "<table>\n",
       "<thead><tr><th></th><th scope=col>ID</th><th scope=col>Name</th><th scope=col>Grade</th></tr></thead>\n",
       "<tbody>\n",
       "\t<tr><th scope=row>1</th><td>1      </td><td>Ali    </td><td>20     </td></tr>\n",
       "\t<tr><th scope=row>5</th><td>5      </td><td>Hossein</td><td>19     </td></tr>\n",
       "</tbody>\n",
       "</table>\n"
      ],
      "text/latex": [
       "\\begin{tabular}{r|lll}\n",
       "  & ID & Name & Grade\\\\\n",
       "\\hline\n",
       "\t1 & 1       & Ali     & 20     \\\\\n",
       "\t5 & 5       & Hossein & 19     \\\\\n",
       "\\end{tabular}\n"
      ],
      "text/markdown": [
       "\n",
       "| <!--/--> | ID | Name | Grade |\n",
       "|---|---|---|---|\n",
       "| 1 | 1       | Ali     | 20      |\n",
       "| 5 | 5       | Hossein | 19      |\n",
       "\n"
      ],
      "text/plain": [
       "  ID Name    Grade\n",
       "1 1  Ali     20   \n",
       "5 5  Hossein 19   "
      ]
     },
     "metadata": {},
     "output_type": "display_data"
    }
   ],
   "source": [
    "df[df$Grade > 18,]"
   ]
  },
  {
   "cell_type": "code",
   "execution_count": 40,
   "metadata": {},
   "outputs": [
    {
     "data": {
      "text/html": [
       "<table>\n",
       "<thead><tr><th scope=col>ID</th><th scope=col>Grade</th></tr></thead>\n",
       "<tbody>\n",
       "\t<tr><td>1   </td><td>20.0</td></tr>\n",
       "\t<tr><td>2   </td><td>16.0</td></tr>\n",
       "\t<tr><td>3   </td><td>17.5</td></tr>\n",
       "\t<tr><td>4   </td><td>14.0</td></tr>\n",
       "\t<tr><td>5   </td><td>19.0</td></tr>\n",
       "</tbody>\n",
       "</table>\n"
      ],
      "text/latex": [
       "\\begin{tabular}{r|ll}\n",
       " ID & Grade\\\\\n",
       "\\hline\n",
       "\t 1    & 20.0\\\\\n",
       "\t 2    & 16.0\\\\\n",
       "\t 3    & 17.5\\\\\n",
       "\t 4    & 14.0\\\\\n",
       "\t 5    & 19.0\\\\\n",
       "\\end{tabular}\n"
      ],
      "text/markdown": [
       "\n",
       "| ID | Grade |\n",
       "|---|---|\n",
       "| 1    | 20.0 |\n",
       "| 2    | 16.0 |\n",
       "| 3    | 17.5 |\n",
       "| 4    | 14.0 |\n",
       "| 5    | 19.0 |\n",
       "\n"
      ],
      "text/plain": [
       "  ID Grade\n",
       "1 1  20.0 \n",
       "2 2  16.0 \n",
       "3 3  17.5 \n",
       "4 4  14.0 \n",
       "5 5  19.0 "
      ]
     },
     "metadata": {},
     "output_type": "display_data"
    }
   ],
   "source": [
    "df[c(\"ID\",\"Grade\")]"
   ]
  },
  {
   "cell_type": "markdown",
   "metadata": {},
   "source": [
    "<div id=\"sec_whatisR\" style=\"direction:rtl;line-height:300%;\">\n",
    "\t<font face=\"XB Niloofar\" size=5>\n",
    "        <br>\n",
    "       همینطور هنگامی که مجموعه‌داده‌ای را از یک فایل می‌خوانید به صورت dataframe دخیره می‌شود.\n",
    "</font>\n",
    "</div>"
   ]
  },
  {
   "cell_type": "code",
   "execution_count": 21,
   "metadata": {},
   "outputs": [
    {
     "data": {
      "image/png": "[encoded data removed]",
      "text/plain": [
       "plot without title"
      ]
     },
     "metadata": {
      "image/png": {
       "height": 420,
       "width": 420
      },
      "text/plain": {
       "height": 420,
       "width": 420
      }
     },
     "output_type": "display_data"
    }
   ],
   "source": [
    "## Depending on the format of dataset\n",
    "## for example inorder to read a .csv file, use read.csv()\n",
    "df = read.csv(\"dataset.csv\")\n",
    "# head(df)\n",
    "# barplot(sort(df$image_count))\n",
    "\n",
    "# barplot(table(df$city))\n",
    "# table(df$city)\n",
    "# barplot(df$price)\n",
    "# barplot(table(df$city))"
   ]
  },
  {
   "cell_type": "markdown",
   "metadata": {},
   "source": [
    "<br>\n",
    "<div id=\"sec_additional\" style=\"direction:rtl;line-height:300%;\">\n",
    "\t<font face=\"XB Niloofar\" size=5>\n",
    "\t\t<font color=#006FDE size=6>\n",
    "نکات تکمیلی\n",
    "        </font>\n",
    "\t\t<p></p>\n",
    "\t\t<hr>\n",
    "        یکی از بهترین راه‌های دسترسی سریع و مرور نکات پایه‌ای R ، استفاده از cheatsheet های R می‌باشد.\n",
    "        <li><a href=\"https://www.rstudio.com/wp-content/uploads/2016/10/r-cheat-sheet-3.pdf\">\n",
    "             Basic R cheatsheet\n",
    "            </a></li>\n",
    "         <li><a href=\"https://www.rstudio.com/wp-content/uploads/2019/01/Cheatsheets_2019.pdf\">\n",
    "             Rstudio cheatsheet\n",
    "            </a></li>\n",
    "        <br>\n",
    "        برای دسترسی به این cheatsheet ها از فیلترشکن استفاده کنید.\n",
    "</font>\n",
    "</div>"
   ]
  }
 ],
 "metadata": {
  "kernelspec": {
   "display_name": "R",
   "language": "R",
   "name": "ir"
  },
  "language_info": {
   "codemirror_mode": "r",
   "file_extension": ".r",
   "mimetype": "text/x-r-source",
   "name": "R",
   "pygments_lexer": "r",
   "version": "3.4.4"
  },
  "latex_envs": {
   "LaTeX_envs_menu_present": true,
   "autoclose": false,
   "autocomplete": true,
   "bibliofile": "biblio.bib",
   "cite_by": "apalike",
   "current_citInitial": 1,
   "eqLabelWithNumbers": true,
   "eqNumInitial": 1,
   "hotkeys": {
    "equation": "Ctrl-E",
    "itemize": "Ctrl-I"
   },
   "labels_anchors": false,
   "latex_user_defs": false,
   "report_style_numbering": false,
   "user_envs_cfg": false
  },
  "toc": {
   "base_numbering": 1,
   "nav_menu": {},
   "number_sections": true,
   "sideBar": true,
   "skip_h1_title": false,
   "title_cell": "Table of Contents",
   "title_sidebar": "Contents",
   "toc_cell": false,
   "toc_position": {},
   "toc_section_display": true,
   "toc_window_display": false
  },
  "varInspector": {
   "cols": {
    "lenName": 16,
    "lenType": 16,
    "lenVar": 40
   },
   "kernels_config": {
    "python": {
     "delete_cmd_postfix": "",
     "delete_cmd_prefix": "del ",
     "library": "var_list.py",
     "varRefreshCmd": "print(var_dic_list())"
    },
    "r": {
     "delete_cmd_postfix": ") ",
     "delete_cmd_prefix": "rm(",
     "library": "var_list.r",
     "varRefreshCmd": "cat(var_dic_list()) "
    }
   },
   "types_to_exclude": [
    "module",
    "function",
    "builtin_function_or_method",
    "instance",
    "_Feature"
   ],
   "window_display": false
  }
 },
 "nbformat": 4,
 "nbformat_minor": 2
}
